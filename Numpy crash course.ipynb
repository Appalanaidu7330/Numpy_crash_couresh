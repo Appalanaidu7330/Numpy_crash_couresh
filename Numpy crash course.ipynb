{
 "cells": [
  {
   "cell_type": "markdown",
   "id": "623b99e2-8b55-48ac-a328-bd13dd8ce30c",
   "metadata": {},
   "source": [
    "# Numpy Crash Course"
   ]
  },
  {
   "cell_type": "markdown",
   "id": "cdb8924a-ad08-4aac-983d-8f1ed90aaaf3",
   "metadata": {},
   "source": [
    "## NumPy\n",
    "NumPy (Numerical Python) is a core package for scientific computing in Python. It provides a high-performance, multidimensional array object, and tools for working with these arrays. With NumPy, you can perform efficient mathematical and logical operations on large datasets, which is essential for data analysis, machine learning, and scientific computations.\n",
    "\n",
    "## Key Concepts in NumPy\n",
    "## 1.ndarray (N-dimensional Array)\n",
    "\n",
    "The primary object in NumPy is the ndarray, a powerful, multidimensional array structure.\n",
    "Unlike Python's built-in list, NumPy arrays are homogeneous (they store elements of the same type) and are optimized for performance.\n",
    "An ndarray is essentially a grid of values indexed by a tuple of non-negative integers."
   ]
  },
  {
   "cell_type": "markdown",
   "id": "3670b940-0d19-4d21-ab10-f62f0f583998",
   "metadata": {},
   "source": [
    "## 2.Array Attributes: Arrays in NumPy have several important attributes:\n",
    "\n",
    "Shape: Defines the dimensions of the array (e.g., for a 2D array, it could be rows and columns)."
   ]
  },
  {
   "cell_type": "markdown",
   "id": "a2d12689-ef83-4f95-8aaf-fb5e68e73311",
   "metadata": {},
   "source": [
    "## 3.Array Creation: You can create arrays in different ways:\n",
    "\n",
    "From Lists/Tuples: Directly convert lists or tuples to arrays"
   ]
  },
  {
   "cell_type": "markdown",
   "id": "dfb81f02-6b59-482c-9910-3241243e963d",
   "metadata": {},
   "source": [
    "## 4.Array Indexing and Slicing:\n",
    "\n",
    "Indexing: Access elements using indices. The index is zero-based, meaning it starts at 0."
   ]
  },
  {
   "cell_type": "markdown",
   "id": "1e4ca91b-461e-4159-a003-4c65fc800347",
   "metadata": {},
   "source": [
    "## 5.Array Operations:\n",
    "\n",
    "Element-wise operations: NumPy arrays allow for element-wise mathematical operations, which is much faster than using Python's built-in lists.\n",
    "\n",
    "Universal Functions (ufuncs): NumPy includes a wide range of mathematical functions (such as np.sqrt(), np.exp(), np.log(), etc.) that operate element-wise on arrays."
   ]
  },
  {
   "cell_type": "markdown",
   "id": "77720e2c-7690-4281-8625-53587f4aa5d6",
   "metadata": {},
   "source": [
    "## 6.Broadcasting:\n",
    "\n",
    "Broadcasting is a powerful feature in NumPy that allows operations on arrays of different shapes and sizes.\n",
    "The smaller array is \"broadcast\" to the shape of the larger array so they can be operated on together. This avoids the need for explicit loops.\n"
   ]
  },
  {
   "cell_type": "markdown",
   "id": "a8ba963e-61db-4db7-a417-5885f22c3b72",
   "metadata": {},
   "source": [
    "## 7.Reshaping Arrays:\n",
    "\n",
    "You can change the shape of an array using the reshape() method. This does not modify the data, only the way it's viewed."
   ]
  },
  {
   "cell_type": "markdown",
   "id": "94fa0be8-e38e-4e14-b318-d999965360a9",
   "metadata": {},
   "source": [
    "## 8.Aggregations and Reductions:\n",
    "\n",
    "NumPy provides a set of functions that allow you to compute summary statistics (e.g., sum, mean, median, etc.) and perform reductions over arrays.\n",
    "\n",
    "Mean: Calculates the average of elements.\n",
    "python\n",
    "Copy\n",
    "Edit\n"
   ]
  },
  {
   "cell_type": "markdown",
   "id": "102bda8d-0b10-4f0f-a725-d10ea24ae61f",
   "metadata": {},
   "source": [
    "## 9.Linear Algebra:\n",
    "\n",
    "NumPy provides a wide range of linear algebra operations (such as matrix multiplication, determinants, eigenvalues, etc.) via the np.linalg module.\n"
   ]
  },
  {
   "cell_type": "markdown",
   "id": "de091e6a-4350-4304-8f71-eca1b2794e9b",
   "metadata": {},
   "source": [
    "## 10.Random Module:\n",
    "\n",
    "NumPy has a random submodule to generate random numbers, shuffle data, and perform random sampling."
   ]
  },
  {
   "cell_type": "markdown",
   "id": "d79e6919-b947-4de1-b1da-4d92dfdfafa8",
   "metadata": {},
   "source": [
    "## 11.Masking and Conditional Indexing:\n",
    "\n",
    "Boolean masking allows you to filter out elements from an array based on conditions."
   ]
  },
  {
   "cell_type": "markdown",
   "id": "5d4b0eed-e34f-4082-850a-394728de7903",
   "metadata": {},
   "source": [
    "## 12.Efficiency:\n",
    "\n",
    "Memory efficiency: NumPy arrays are more memory-efficient than Python lists.\n",
    "Performance: NumPy operations are typically faster than Python loops because NumPy operations are implemented in C and are optimized for performance.\n"
   ]
  },
  {
   "cell_type": "code",
   "execution_count": 3,
   "id": "bf65374c-da31-40a0-983d-e161c6f8ec4d",
   "metadata": {},
   "outputs": [],
   "source": [
    "import numpy as np"
   ]
  },
  {
   "cell_type": "code",
   "execution_count": 5,
   "id": "db0f162e-62a9-4a16-b694-3e29addb6c4e",
   "metadata": {},
   "outputs": [
    {
     "data": {
      "text/plain": [
       "'1.26.4'"
      ]
     },
     "execution_count": 5,
     "metadata": {},
     "output_type": "execute_result"
    }
   ],
   "source": [
    "np.__version__"
   ]
  },
  {
   "cell_type": "markdown",
   "id": "6c170856-b06f-420d-a1f4-2d9fe7b2ef5f",
   "metadata": {},
   "source": [
    "#  creating Arrays"
   ]
  },
  {
   "cell_type": "code",
   "execution_count": 8,
   "id": "a7216181-0c5e-4bba-a855-4f49a1b013b9",
   "metadata": {},
   "outputs": [
    {
     "data": {
      "text/plain": [
       "[0, 1, 2, 3, 4, 5]"
      ]
     },
     "execution_count": 8,
     "metadata": {},
     "output_type": "execute_result"
    }
   ],
   "source": [
    "my_list = [0,1,2,3,4,5]\n",
    "my_list"
   ]
  },
  {
   "cell_type": "code",
   "execution_count": 10,
   "id": "0ea2988d-7361-4b7a-8394-ca3d80695696",
   "metadata": {},
   "outputs": [
    {
     "data": {
      "text/plain": [
       "list"
      ]
     },
     "execution_count": 10,
     "metadata": {},
     "output_type": "execute_result"
    }
   ],
   "source": [
    "type(my_list)"
   ]
  },
  {
   "cell_type": "code",
   "execution_count": 12,
   "id": "e4f00cbd-d68d-4b06-88b1-88ac081e4705",
   "metadata": {},
   "outputs": [],
   "source": [
    "arr = np.array(my_list)"
   ]
  },
  {
   "cell_type": "code",
   "execution_count": 14,
   "id": "77fb6c94-d7ba-4d31-80f2-740acc92e54d",
   "metadata": {},
   "outputs": [
    {
     "data": {
      "text/plain": [
       "array([0, 1, 2, 3, 4, 5])"
      ]
     },
     "execution_count": 14,
     "metadata": {},
     "output_type": "execute_result"
    }
   ],
   "source": [
    "arr"
   ]
  },
  {
   "cell_type": "code",
   "execution_count": 16,
   "id": "4bc4e2be-211c-44bc-a18f-1ce81bdfd469",
   "metadata": {},
   "outputs": [
    {
     "data": {
      "text/plain": [
       "numpy.ndarray"
      ]
     },
     "execution_count": 16,
     "metadata": {},
     "output_type": "execute_result"
    }
   ],
   "source": [
    "type(arr)"
   ]
  },
  {
   "cell_type": "code",
   "execution_count": 18,
   "id": "497130a9-dca5-4138-81ee-b695f9493ee5",
   "metadata": {},
   "outputs": [
    {
     "data": {
      "text/plain": [
       "array([0, 1, 2, 3, 4])"
      ]
     },
     "execution_count": 18,
     "metadata": {},
     "output_type": "execute_result"
    }
   ],
   "source": [
    "np.arange(5)"
   ]
  },
  {
   "cell_type": "code",
   "execution_count": 20,
   "id": "a15c5d8b-2015-4a35-ae99-20f3781dc05b",
   "metadata": {},
   "outputs": [
    {
     "data": {
      "text/plain": [
       "array([0., 1., 2.])"
      ]
     },
     "execution_count": 20,
     "metadata": {},
     "output_type": "execute_result"
    }
   ],
   "source": [
    "np.arange(3.0)"
   ]
  },
  {
   "cell_type": "code",
   "execution_count": 22,
   "id": "b6284325-e442-497c-9ddb-910645dd19ff",
   "metadata": {},
   "outputs": [
    {
     "data": {
      "text/plain": [
       "array([0, 1, 2, 3, 4, 5, 6, 7, 8, 9])"
      ]
     },
     "execution_count": 22,
     "metadata": {},
     "output_type": "execute_result"
    }
   ],
   "source": [
    "np.arange(10)"
   ]
  },
  {
   "cell_type": "code",
   "execution_count": 24,
   "id": "ae3fc47a-a142-4a66-847c-1237564af356",
   "metadata": {},
   "outputs": [
    {
     "data": {
      "text/plain": [
       "array([0, 1, 2, 3, 4])"
      ]
     },
     "execution_count": 24,
     "metadata": {},
     "output_type": "execute_result"
    }
   ],
   "source": [
    "np.arange(0,5)"
   ]
  },
  {
   "cell_type": "code",
   "execution_count": 26,
   "id": "f269f33a-5c07-4b70-8fc7-7652b673e1c5",
   "metadata": {},
   "outputs": [
    {
     "data": {
      "text/plain": [
       "array([10, 11, 12, 13, 14, 15, 16, 17, 18, 19])"
      ]
     },
     "execution_count": 26,
     "metadata": {},
     "output_type": "execute_result"
    }
   ],
   "source": [
    "np.arange(10,20)"
   ]
  },
  {
   "cell_type": "code",
   "execution_count": 28,
   "id": "173fa27d-7326-45f7-b595-1099c058665e",
   "metadata": {},
   "outputs": [
    {
     "data": {
      "text/plain": [
       "array([-20, -19, -18, -17, -16, -15, -14, -13, -12, -11, -10,  -9,  -8,\n",
       "        -7,  -6,  -5,  -4,  -3,  -2,  -1,   0,   1,   2,   3,   4,   5,\n",
       "         6,   7,   8,   9])"
      ]
     },
     "execution_count": 28,
     "metadata": {},
     "output_type": "execute_result"
    }
   ],
   "source": [
    "np.arange(-20,10)"
   ]
  },
  {
   "cell_type": "code",
   "execution_count": 30,
   "id": "d875ade5-21db-4ff3-9643-b7f530a99cd2",
   "metadata": {},
   "outputs": [
    {
     "data": {
      "text/plain": [
       "array([-20, -19, -18, -17, -16, -15, -14, -13, -12, -11])"
      ]
     },
     "execution_count": 30,
     "metadata": {},
     "output_type": "execute_result"
    }
   ],
   "source": [
    "np.arange(-20,-10)"
   ]
  },
  {
   "cell_type": "code",
   "execution_count": 32,
   "id": "161b3ca5-ffa8-4639-bc88-e54d52cf852c",
   "metadata": {},
   "outputs": [
    {
     "data": {
      "text/plain": [
       "array([], dtype=int32)"
      ]
     },
     "execution_count": 32,
     "metadata": {},
     "output_type": "execute_result"
    }
   ],
   "source": [
    "np.arange(30,20)"
   ]
  },
  {
   "cell_type": "code",
   "execution_count": 34,
   "id": "fec5e896-7a39-419e-9519-8970d5ebafae",
   "metadata": {},
   "outputs": [
    {
     "data": {
      "text/plain": [
       "array([-20, -19, -18, -17, -16, -15, -14, -13, -12, -11, -10,  -9,  -8,\n",
       "        -7,  -6,  -5,  -4,  -3,  -2,  -1,   0,   1,   2,   3,   4,   5,\n",
       "         6,   7,   8,   9,  10,  11,  12,  13,  14,  15,  16,  17,  18,\n",
       "        19])"
      ]
     },
     "execution_count": 34,
     "metadata": {},
     "output_type": "execute_result"
    }
   ],
   "source": [
    "b = np.arange(-20 ,20)\n",
    "b"
   ]
  },
  {
   "cell_type": "code",
   "execution_count": 36,
   "id": "d2e85567-87da-4288-b16d-173ca53ee936",
   "metadata": {},
   "outputs": [
    {
     "data": {
      "text/plain": [
       "array([], dtype=int32)"
      ]
     },
     "execution_count": 36,
     "metadata": {},
     "output_type": "execute_result"
    }
   ],
   "source": [
    "np.arange(10,10)"
   ]
  },
  {
   "cell_type": "code",
   "execution_count": 38,
   "id": "6a6e7d7f-d1ad-45a9-ba8a-7157041f58df",
   "metadata": {},
   "outputs": [
    {
     "data": {
      "text/plain": [
       "array([-20, -19, -18, -17, -16, -15, -14, -13, -12, -11, -10,  -9,  -8,\n",
       "        -7,  -6,  -5,  -4,  -3,  -2,  -1,   0,   1,   2,   3,   4,   5,\n",
       "         6,   7,   8,   9,  10,  11,  12,  13,  14,  15,  16,  17,  18,\n",
       "        19])"
      ]
     },
     "execution_count": 38,
     "metadata": {},
     "output_type": "execute_result"
    }
   ],
   "source": [
    "np.arange(-20,20)"
   ]
  },
  {
   "cell_type": "code",
   "execution_count": 40,
   "id": "8383511c-29a2-418a-a475-fdb618633aac",
   "metadata": {},
   "outputs": [
    {
     "data": {
      "text/plain": [
       "array([10, 20])"
      ]
     },
     "execution_count": 40,
     "metadata": {},
     "output_type": "execute_result"
    }
   ],
   "source": [
    "np.arange(10,30,10)"
   ]
  },
  {
   "cell_type": "code",
   "execution_count": 42,
   "id": "701aa2c2-c0f3-4d85-81c0-a18a5dfc2ad8",
   "metadata": {},
   "outputs": [
    {
     "data": {
      "text/plain": [
       "array([10, 13, 16, 19, 22, 25, 28])"
      ]
     },
     "execution_count": 42,
     "metadata": {},
     "output_type": "execute_result"
    }
   ],
   "source": [
    "np.arange(10,30,3)"
   ]
  },
  {
   "cell_type": "code",
   "execution_count": 44,
   "id": "034ef0a6-39d5-4c0d-9b8e-e3b88bb47dd8",
   "metadata": {},
   "outputs": [
    {
     "data": {
      "text/plain": [
       "array([20, 25])"
      ]
     },
     "execution_count": 44,
     "metadata": {},
     "output_type": "execute_result"
    }
   ],
   "source": [
    "np.arange(20,30,5)"
   ]
  },
  {
   "cell_type": "code",
   "execution_count": 46,
   "id": "23324827-f856-4b87-9403-8aab84c8201e",
   "metadata": {},
   "outputs": [
    {
     "ename": "TypeError",
     "evalue": "Cannot interpret '5' as a data type",
     "output_type": "error",
     "traceback": [
      "\u001b[1;31m---------------------------------------------------------------------------\u001b[0m",
      "\u001b[1;31mTypeError\u001b[0m                                 Traceback (most recent call last)",
      "Cell \u001b[1;32mIn[46], line 1\u001b[0m\n\u001b[1;32m----> 1\u001b[0m np\u001b[38;5;241m.\u001b[39marange(\u001b[38;5;241m10\u001b[39m,\u001b[38;5;241m20\u001b[39m,\u001b[38;5;241m5\u001b[39m,\u001b[38;5;241m5\u001b[39m)\n",
      "\u001b[1;31mTypeError\u001b[0m: Cannot interpret '5' as a data type"
     ]
    }
   ],
   "source": [
    "np.arange(10,20,5,5)"
   ]
  },
  {
   "cell_type": "code",
   "execution_count": 48,
   "id": "52b469aa-150a-467e-bf81-a36494a818b9",
   "metadata": {},
   "outputs": [
    {
     "data": {
      "text/plain": [
       "array([0, 0, 0, 0, 0, 0, 0, 0, 0, 0])"
      ]
     },
     "execution_count": 48,
     "metadata": {},
     "output_type": "execute_result"
    }
   ],
   "source": [
    "b1 = np.zeros(10,dtype=int)\n",
    "b1"
   ]
  },
  {
   "cell_type": "code",
   "execution_count": 50,
   "id": "8b650289-2b76-46ea-b4d1-d992eba8166a",
   "metadata": {},
   "outputs": [
    {
     "data": {
      "text/plain": [
       "array([0., 0., 0., 0., 0., 0., 0., 0., 0., 0.])"
      ]
     },
     "execution_count": 50,
     "metadata": {},
     "output_type": "execute_result"
    }
   ],
   "source": [
    "b1 = np.zeros(10,dtype =float)  #hyperparameter tunning \n",
    "b1"
   ]
  },
  {
   "cell_type": "code",
   "execution_count": 52,
   "id": "614b42f9-703e-4cb5-b505-d917a085e09e",
   "metadata": {},
   "outputs": [
    {
     "data": {
      "text/plain": [
       "array([[0., 0., 0., 0., 0., 0., 0.],\n",
       "       [0., 0., 0., 0., 0., 0., 0.],\n",
       "       [0., 0., 0., 0., 0., 0., 0.]])"
      ]
     },
     "execution_count": 52,
     "metadata": {},
     "output_type": "execute_result"
    }
   ],
   "source": [
    "zero = np.zeros((3,7))\n",
    "zero"
   ]
  },
  {
   "cell_type": "code",
   "execution_count": 54,
   "id": "7e7c185f-bf5b-46ba-881a-9a0273e715e5",
   "metadata": {},
   "outputs": [
    {
     "data": {
      "text/plain": [
       "array([[1., 1.],\n",
       "       [1., 1.],\n",
       "       [1., 1.],\n",
       "       [1., 1.],\n",
       "       [1., 1.],\n",
       "       [1., 1.],\n",
       "       [1., 1.],\n",
       "       [1., 1.],\n",
       "       [1., 1.],\n",
       "       [1., 1.]])"
      ]
     },
     "execution_count": 54,
     "metadata": {},
     "output_type": "execute_result"
    }
   ],
   "source": [
    "zero = np.ones((10,2))\n",
    "zero"
   ]
  },
  {
   "cell_type": "code",
   "execution_count": 56,
   "id": "82f8d117-22da-4f3f-823d-774d59e894d5",
   "metadata": {},
   "outputs": [
    {
     "data": {
      "text/plain": [
       "array([0.+0.j, 0.+0.j, 0.+0.j, 0.+0.j, 0.+0.j, 0.+0.j, 0.+0.j, 0.+0.j,\n",
       "       0.+0.j, 0.+0.j, 0.+0.j, 0.+0.j, 0.+0.j, 0.+0.j, 0.+0.j, 0.+0.j,\n",
       "       0.+0.j, 0.+0.j, 0.+0.j])"
      ]
     },
     "execution_count": 56,
     "metadata": {},
     "output_type": "execute_result"
    }
   ],
   "source": [
    "b1 = np.zeros(10+9,dtype=complex)\n",
    "b1"
   ]
  },
  {
   "cell_type": "code",
   "execution_count": 58,
   "id": "200d414d-ee61-445b-8c5b-be6df8cc2731",
   "metadata": {},
   "outputs": [
    {
     "data": {
      "text/plain": [
       "array([[1., 1.],\n",
       "       [1., 1.],\n",
       "       [1., 1.],\n",
       "       [1., 1.],\n",
       "       [1., 1.],\n",
       "       [1., 1.],\n",
       "       [1., 1.],\n",
       "       [1., 1.],\n",
       "       [1., 1.],\n",
       "       [1., 1.]])"
      ]
     },
     "execution_count": 58,
     "metadata": {},
     "output_type": "execute_result"
    }
   ],
   "source": [
    "zero"
   ]
  },
  {
   "cell_type": "code",
   "execution_count": 60,
   "id": "b0da44bf-d116-4c4f-9351-b36bdbdcbe92",
   "metadata": {},
   "outputs": [
    {
     "data": {
      "text/plain": [
       "array([[0., 0., 0., 0., 0., 0., 0., 0., 0., 0.],\n",
       "       [0., 0., 0., 0., 0., 0., 0., 0., 0., 0.],\n",
       "       [0., 0., 0., 0., 0., 0., 0., 0., 0., 0.],\n",
       "       [0., 0., 0., 0., 0., 0., 0., 0., 0., 0.],\n",
       "       [0., 0., 0., 0., 0., 0., 0., 0., 0., 0.],\n",
       "       [0., 0., 0., 0., 0., 0., 0., 0., 0., 0.],\n",
       "       [0., 0., 0., 0., 0., 0., 0., 0., 0., 0.],\n",
       "       [0., 0., 0., 0., 0., 0., 0., 0., 0., 0.],\n",
       "       [0., 0., 0., 0., 0., 0., 0., 0., 0., 0.],\n",
       "       [0., 0., 0., 0., 0., 0., 0., 0., 0., 0.],\n",
       "       [0., 0., 0., 0., 0., 0., 0., 0., 0., 0.],\n",
       "       [0., 0., 0., 0., 0., 0., 0., 0., 0., 0.]])"
      ]
     },
     "execution_count": 60,
     "metadata": {},
     "output_type": "execute_result"
    }
   ],
   "source": [
    "np.zeros((12,10))  # bydefaul 1arge -- will give row & 2nd arg - columns"
   ]
  },
  {
   "cell_type": "code",
   "execution_count": 62,
   "id": "5eefe897-e57c-4bea-8aee-4f6916f973cf",
   "metadata": {},
   "outputs": [
    {
     "data": {
      "text/plain": [
       "array([[0., 0., 0., 0., 0., 0., 0.],\n",
       "       [0., 0., 0., 0., 0., 0., 0.],\n",
       "       [0., 0., 0., 0., 0., 0., 0.],\n",
       "       [0., 0., 0., 0., 0., 0., 0.]])"
      ]
     },
     "execution_count": 62,
     "metadata": {},
     "output_type": "execute_result"
    }
   ],
   "source": [
    "np.zeros((4,7))"
   ]
  },
  {
   "cell_type": "code",
   "execution_count": 64,
   "id": "03768c9f-d183-4a3a-94b4-0de3cdc13dd5",
   "metadata": {},
   "outputs": [
    {
     "name": "stdout",
     "output_type": "stream",
     "text": [
      "[[0. 0. 0. 0. 0. 0. 0. 0. 0.]\n",
      " [0. 0. 0. 0. 0. 0. 0. 0. 0.]\n",
      " [0. 0. 0. 0. 0. 0. 0. 0. 0.]\n",
      " [0. 0. 0. 0. 0. 0. 0. 0. 0.]\n",
      " [0. 0. 0. 0. 0. 0. 0. 0. 0.]]\n"
     ]
    }
   ],
   "source": [
    "n = (5,9)\n",
    "n1 = (6,10)\n",
    "print(np.zeros(n))  # parameter tunnin g\n",
    "#print(np.zeros(n1,dtype=int)) ## hypyerparameter tunning "
   ]
  },
  {
   "cell_type": "code",
   "execution_count": 66,
   "id": "a658d583-86ed-4253-8b9d-550b83fa6173",
   "metadata": {},
   "outputs": [
    {
     "name": "stdout",
     "output_type": "stream",
     "text": [
      "[[0. 0. 0. 0. 0. 0. 0. 0. 0. 0.]\n",
      " [0. 0. 0. 0. 0. 0. 0. 0. 0. 0.]\n",
      " [0. 0. 0. 0. 0. 0. 0. 0. 0. 0.]\n",
      " [0. 0. 0. 0. 0. 0. 0. 0. 0. 0.]\n",
      " [0. 0. 0. 0. 0. 0. 0. 0. 0. 0.]\n",
      " [0. 0. 0. 0. 0. 0. 0. 0. 0. 0.]]\n"
     ]
    }
   ],
   "source": [
    "print(np.zeros(n1))"
   ]
  },
  {
   "cell_type": "code",
   "execution_count": 68,
   "id": "05afbb2e-68a6-47e7-8bcd-3f7c688dc817",
   "metadata": {},
   "outputs": [
    {
     "data": {
      "text/plain": [
       "array([1, 1, 1, 1, 1])"
      ]
     },
     "execution_count": 68,
     "metadata": {},
     "output_type": "execute_result"
    }
   ],
   "source": [
    "np.ones(5,dtype=int)"
   ]
  },
  {
   "cell_type": "code",
   "execution_count": 70,
   "id": "58bbe1ae-4352-4cac-b8ca-39bb0bdc0ff4",
   "metadata": {},
   "outputs": [
    {
     "data": {
      "text/plain": [
       "array([1., 1., 1., 1., 1., 1., 1., 1., 1.])"
      ]
     },
     "execution_count": 70,
     "metadata": {},
     "output_type": "execute_result"
    }
   ],
   "source": [
    "np.ones(9)"
   ]
  },
  {
   "cell_type": "code",
   "execution_count": 367,
   "id": "26f532cd-880f-49bc-b98c-fccbc88562e2",
   "metadata": {},
   "outputs": [
    {
     "data": {
      "text/plain": [
       "(5, 9)"
      ]
     },
     "execution_count": 367,
     "metadata": {},
     "output_type": "execute_result"
    }
   ],
   "source": [
    "n"
   ]
  },
  {
   "cell_type": "code",
   "execution_count": 369,
   "id": "2c715d96-85b7-487c-8f54-9302c4a7639e",
   "metadata": {},
   "outputs": [
    {
     "data": {
      "text/plain": [
       "(6, 10)"
      ]
     },
     "execution_count": 369,
     "metadata": {},
     "output_type": "execute_result"
    }
   ],
   "source": [
    "n1"
   ]
  },
  {
   "cell_type": "code",
   "execution_count": 371,
   "id": "05b92c60-76c3-4e86-bad8-e0997bc59e52",
   "metadata": {},
   "outputs": [
    {
     "data": {
      "text/plain": [
       "array([[1., 1., 1., 1., 1., 1., 1., 1., 1.],\n",
       "       [1., 1., 1., 1., 1., 1., 1., 1., 1.],\n",
       "       [1., 1., 1., 1., 1., 1., 1., 1., 1.],\n",
       "       [1., 1., 1., 1., 1., 1., 1., 1., 1.],\n",
       "       [1., 1., 1., 1., 1., 1., 1., 1., 1.]])"
      ]
     },
     "execution_count": 371,
     "metadata": {},
     "output_type": "execute_result"
    }
   ],
   "source": [
    "np.ones(n)"
   ]
  },
  {
   "cell_type": "code",
   "execution_count": 373,
   "id": "860c6d95-4760-4155-b64e-f7d4df497228",
   "metadata": {},
   "outputs": [
    {
     "data": {
      "text/plain": [
       "array([[1., 1., 1., 1., 1., 1., 1., 1., 1.],\n",
       "       [1., 1., 1., 1., 1., 1., 1., 1., 1.],\n",
       "       [1., 1., 1., 1., 1., 1., 1., 1., 1.],\n",
       "       [1., 1., 1., 1., 1., 1., 1., 1., 1.],\n",
       "       [1., 1., 1., 1., 1., 1., 1., 1., 1.]])"
      ]
     },
     "execution_count": 373,
     "metadata": {},
     "output_type": "execute_result"
    }
   ],
   "source": [
    "np.ones((5,9),dtype=float) # by default 5- rows & 9 - columns"
   ]
  },
  {
   "cell_type": "code",
   "execution_count": 72,
   "id": "299a7ddb-785d-4266-9dba-5ef54ccb9cd1",
   "metadata": {},
   "outputs": [
    {
     "ename": "AttributeError",
     "evalue": "module 'numpy' has no attribute 'twos'",
     "output_type": "error",
     "traceback": [
      "\u001b[1;31m---------------------------------------------------------------------------\u001b[0m",
      "\u001b[1;31mAttributeError\u001b[0m                            Traceback (most recent call last)",
      "Cell \u001b[1;32mIn[72], line 1\u001b[0m\n\u001b[1;32m----> 1\u001b[0m np\u001b[38;5;241m.\u001b[39mtwos((\u001b[38;5;241m2\u001b[39m,\u001b[38;5;241m3\u001b[39m))\n",
      "File \u001b[1;32m~\\anaconda3\\Lib\\site-packages\\numpy\\__init__.py:333\u001b[0m, in \u001b[0;36m__getattr__\u001b[1;34m(attr)\u001b[0m\n\u001b[0;32m    330\u001b[0m     \u001b[38;5;124m\"\u001b[39m\u001b[38;5;124mRemoved in NumPy 1.25.0\u001b[39m\u001b[38;5;124m\"\u001b[39m\n\u001b[0;32m    331\u001b[0m     \u001b[38;5;28;01mraise\u001b[39;00m \u001b[38;5;167;01mRuntimeError\u001b[39;00m(\u001b[38;5;124m\"\u001b[39m\u001b[38;5;124mTester was removed in NumPy 1.25.\u001b[39m\u001b[38;5;124m\"\u001b[39m)\n\u001b[1;32m--> 333\u001b[0m \u001b[38;5;28;01mraise\u001b[39;00m \u001b[38;5;167;01mAttributeError\u001b[39;00m(\u001b[38;5;124m\"\u001b[39m\u001b[38;5;124mmodule \u001b[39m\u001b[38;5;132;01m{!r}\u001b[39;00m\u001b[38;5;124m has no attribute \u001b[39m\u001b[38;5;124m\"\u001b[39m\n\u001b[0;32m    334\u001b[0m                      \u001b[38;5;124m\"\u001b[39m\u001b[38;5;132;01m{!r}\u001b[39;00m\u001b[38;5;124m\"\u001b[39m\u001b[38;5;241m.\u001b[39mformat(\u001b[38;5;18m__name__\u001b[39m, attr))\n",
      "\u001b[1;31mAttributeError\u001b[0m: module 'numpy' has no attribute 'twos'"
     ]
    }
   ],
   "source": [
    "np.twos((2,3))"
   ]
  },
  {
   "cell_type": "code",
   "execution_count": 74,
   "id": "5e29f4e7-4be0-4df4-9b79-6b50994f7fe9",
   "metadata": {},
   "outputs": [
    {
     "data": {
      "text/plain": [
       "array([[1., 1., 1., 1.],\n",
       "       [1., 1., 1., 1.]])"
      ]
     },
     "execution_count": 74,
     "metadata": {},
     "output_type": "execute_result"
    }
   ],
   "source": [
    "np.ones((2,4)) "
   ]
  },
  {
   "cell_type": "code",
   "execution_count": 76,
   "id": "a29c4a8f-16f2-41f5-9e6f-b3a91377a430",
   "metadata": {},
   "outputs": [
    {
     "data": {
      "text/plain": [
       "array([[1, 1, 1, 1, 1, 1, 1, 1, 1, 1],\n",
       "       [1, 1, 1, 1, 1, 1, 1, 1, 1, 1],\n",
       "       [1, 1, 1, 1, 1, 1, 1, 1, 1, 1],\n",
       "       [1, 1, 1, 1, 1, 1, 1, 1, 1, 1],\n",
       "       [1, 1, 1, 1, 1, 1, 1, 1, 1, 1],\n",
       "       [1, 1, 1, 1, 1, 1, 1, 1, 1, 1]])"
      ]
     },
     "execution_count": 76,
     "metadata": {},
     "output_type": "execute_result"
    }
   ],
   "source": [
    "np.ones((6,10),dtype = int) "
   ]
  },
  {
   "cell_type": "markdown",
   "id": "0457baee-2b27-48e6-852d-037d3b926b71",
   "metadata": {},
   "source": [
    "# please add new notebook & compare with np & *"
   ]
  },
  {
   "cell_type": "code",
   "execution_count": 79,
   "id": "5dd8c6c2-4df7-4b1a-ab60-fc8ab25cea34",
   "metadata": {},
   "outputs": [
    {
     "data": {
      "text/plain": [
       "array([0, 1, 2, 3, 4, 5, 6, 7, 8])"
      ]
     },
     "execution_count": 79,
     "metadata": {},
     "output_type": "execute_result"
    }
   ],
   "source": [
    "from numpy import*\n",
    "arange(9)"
   ]
  },
  {
   "cell_type": "code",
   "execution_count": 81,
   "id": "2ed92c31-8b99-4bfd-bd31-a44cb1396e98",
   "metadata": {},
   "outputs": [
    {
     "data": {
      "text/plain": [
       "[0, 1, 2, 3, 4, 5, 6, 7, 8]"
      ]
     },
     "execution_count": 81,
     "metadata": {},
     "output_type": "execute_result"
    }
   ],
   "source": [
    "range(9)\n",
    "list(range(9))"
   ]
  },
  {
   "cell_type": "code",
   "execution_count": 83,
   "id": "abf0f554-732d-4fa3-8e8c-b60599f856ce",
   "metadata": {},
   "outputs": [
    {
     "data": {
      "text/plain": [
       "range(0, 9)"
      ]
     },
     "execution_count": 83,
     "metadata": {},
     "output_type": "execute_result"
    }
   ],
   "source": [
    "range(9)"
   ]
  },
  {
   "cell_type": "code",
   "execution_count": 85,
   "id": "cb65aa45-7b0e-4ac8-b6d7-6faa98f509e4",
   "metadata": {},
   "outputs": [],
   "source": [
    "y = list(range(9))"
   ]
  },
  {
   "cell_type": "code",
   "execution_count": 87,
   "id": "2b9d5800-0eb6-4ac7-98c5-212d56c75acb",
   "metadata": {},
   "outputs": [
    {
     "data": {
      "text/plain": [
       "[0, 1, 2, 3, 4, 5, 6, 7, 8]"
      ]
     },
     "execution_count": 87,
     "metadata": {},
     "output_type": "execute_result"
    }
   ],
   "source": [
    "y"
   ]
  },
  {
   "cell_type": "code",
   "execution_count": 89,
   "id": "418336ec-0de7-4e8b-a369-9f16843f4139",
   "metadata": {},
   "outputs": [
    {
     "data": {
      "text/plain": [
       "array([0., 0., 0., 0., 0., 0., 0., 0., 0.])"
      ]
     },
     "execution_count": 89,
     "metadata": {},
     "output_type": "execute_result"
    }
   ],
   "source": [
    "from numpy import*\n",
    "zeros(9)"
   ]
  },
  {
   "cell_type": "code",
   "execution_count": 91,
   "id": "2e51dab1-54f3-423d-8039-b44ad2887ccb",
   "metadata": {},
   "outputs": [
    {
     "ename": "AttributeError",
     "evalue": "module 'numpy' has no attribute 'threes'",
     "output_type": "error",
     "traceback": [
      "\u001b[1;31m---------------------------------------------------------------------------\u001b[0m",
      "\u001b[1;31mAttributeError\u001b[0m                            Traceback (most recent call last)",
      "Cell \u001b[1;32mIn[91], line 1\u001b[0m\n\u001b[1;32m----> 1\u001b[0m np\u001b[38;5;241m.\u001b[39mthrees((\u001b[38;5;241m3\u001b[39m,\u001b[38;5;241m9\u001b[39m))\n",
      "File \u001b[1;32m~\\anaconda3\\Lib\\site-packages\\numpy\\__init__.py:333\u001b[0m, in \u001b[0;36m__getattr__\u001b[1;34m(attr)\u001b[0m\n\u001b[0;32m    330\u001b[0m     \u001b[38;5;124m\"\u001b[39m\u001b[38;5;124mRemoved in NumPy 1.25.0\u001b[39m\u001b[38;5;124m\"\u001b[39m\n\u001b[0;32m    331\u001b[0m     \u001b[38;5;28;01mraise\u001b[39;00m \u001b[38;5;167;01mRuntimeError\u001b[39;00m(\u001b[38;5;124m\"\u001b[39m\u001b[38;5;124mTester was removed in NumPy 1.25.\u001b[39m\u001b[38;5;124m\"\u001b[39m)\n\u001b[1;32m--> 333\u001b[0m \u001b[38;5;28;01mraise\u001b[39;00m \u001b[38;5;167;01mAttributeError\u001b[39;00m(\u001b[38;5;124m\"\u001b[39m\u001b[38;5;124mmodule \u001b[39m\u001b[38;5;132;01m{!r}\u001b[39;00m\u001b[38;5;124m has no attribute \u001b[39m\u001b[38;5;124m\"\u001b[39m\n\u001b[0;32m    334\u001b[0m                      \u001b[38;5;124m\"\u001b[39m\u001b[38;5;132;01m{!r}\u001b[39;00m\u001b[38;5;124m\"\u001b[39m\u001b[38;5;241m.\u001b[39mformat(\u001b[38;5;18m__name__\u001b[39m, attr))\n",
      "\u001b[1;31mAttributeError\u001b[0m: module 'numpy' has no attribute 'threes'"
     ]
    }
   ],
   "source": [
    "np.threes((3,9))"
   ]
  },
  {
   "cell_type": "code",
   "execution_count": 93,
   "id": "62bdff70-5758-4d1f-a5d3-e5560891cd22",
   "metadata": {},
   "outputs": [
    {
     "data": {
      "text/plain": [
       "array([0.78113171, 0.31219597, 0.60378229, 0.26747552, 0.27397891,\n",
       "       0.4242537 , 0.0406149 , 0.4565745 , 0.2073735 ])"
      ]
     },
     "execution_count": 93,
     "metadata": {},
     "output_type": "execute_result"
    }
   ],
   "source": [
    "np.random.rand(9)"
   ]
  },
  {
   "cell_type": "code",
   "execution_count": 95,
   "id": "1d59df2a-2a50-4054-9e41-cb0daf1c5d93",
   "metadata": {},
   "outputs": [
    {
     "data": {
      "text/plain": [
       "array([[0.69419571, 0.29081374, 0.40709502, 0.61775567, 0.73545027,\n",
       "        0.9266624 , 0.78001227, 0.97774683],\n",
       "       [0.15151032, 0.83491688, 0.62450587, 0.04159462, 0.92164915,\n",
       "        0.75981131, 0.03912169, 0.01199031]])"
      ]
     },
     "execution_count": 95,
     "metadata": {},
     "output_type": "execute_result"
    }
   ],
   "source": [
    "np.random.rand(2,8)"
   ]
  },
  {
   "cell_type": "code",
   "execution_count": 99,
   "id": "9587aacf-c629-447b-bf0d-48368e71c0ca",
   "metadata": {},
   "outputs": [
    {
     "data": {
      "text/plain": [
       "6"
      ]
     },
     "execution_count": 99,
     "metadata": {},
     "output_type": "execute_result"
    }
   ],
   "source": [
    "np.random.randint(5,9) # 2nd argument is exlusive "
   ]
  },
  {
   "cell_type": "code",
   "execution_count": 101,
   "id": "609048c3-9fb4-4f01-801e-2b00450750d2",
   "metadata": {},
   "outputs": [
    {
     "data": {
      "text/plain": [
       "array([29, 41, 10, 35, 23])"
      ]
     },
     "execution_count": 101,
     "metadata": {},
     "output_type": "execute_result"
    }
   ],
   "source": [
    "np.random.randint(10,50,5)"
   ]
  },
  {
   "cell_type": "code",
   "execution_count": 103,
   "id": "a6d36768-3301-4199-8f19-c6fc4f425c8a",
   "metadata": {},
   "outputs": [
    {
     "data": {
      "text/plain": [
       "array([1, 2, 1, 2, 2])"
      ]
     },
     "execution_count": 103,
     "metadata": {},
     "output_type": "execute_result"
    }
   ],
   "source": [
    "np.random.randint(1,3,5)"
   ]
  },
  {
   "cell_type": "code",
   "execution_count": 105,
   "id": "68b76b0b-7905-4366-874e-8e96ff42f8e9",
   "metadata": {},
   "outputs": [
    {
     "data": {
      "text/plain": [
       "array([18, 17, 19, 19, 18, 14, 11, 16, 16, 14, 15, 19, 16, 11, 14, 12, 17,\n",
       "       18, 19, 19, 17, 13, 19, 13, 15, 10, 15, 16, 15, 16])"
      ]
     },
     "execution_count": 105,
     "metadata": {},
     "output_type": "execute_result"
    }
   ],
   "source": [
    "np.random.randint(10,20,30)"
   ]
  },
  {
   "cell_type": "code",
   "execution_count": 107,
   "id": "24b749fe-7c44-4034-a630-e24bbae16f01",
   "metadata": {},
   "outputs": [
    {
     "ename": "ValueError",
     "evalue": "low >= high",
     "output_type": "error",
     "traceback": [
      "\u001b[1;31m---------------------------------------------------------------------------\u001b[0m",
      "\u001b[1;31mValueError\u001b[0m                                Traceback (most recent call last)",
      "Cell \u001b[1;32mIn[107], line 1\u001b[0m\n\u001b[1;32m----> 1\u001b[0m np\u001b[38;5;241m.\u001b[39mrandom\u001b[38;5;241m.\u001b[39mrandint(\u001b[38;5;241m90\u001b[39m,\u001b[38;5;241m80\u001b[39m,\u001b[38;5;241m60\u001b[39m)\n",
      "File \u001b[1;32mnumpy\\\\random\\\\mtrand.pyx:780\u001b[0m, in \u001b[0;36mnumpy.random.mtrand.RandomState.randint\u001b[1;34m()\u001b[0m\n",
      "File \u001b[1;32mnumpy\\\\random\\\\_bounded_integers.pyx:1425\u001b[0m, in \u001b[0;36mnumpy.random._bounded_integers._rand_int32\u001b[1;34m()\u001b[0m\n",
      "\u001b[1;31mValueError\u001b[0m: low >= high"
     ]
    }
   ],
   "source": [
    "np.random.randint(90,80,60)"
   ]
  },
  {
   "cell_type": "code",
   "execution_count": 109,
   "id": "3aed452e-c122-48ec-8de1-87e40ed5c9f8",
   "metadata": {},
   "outputs": [
    {
     "data": {
      "text/plain": [
       "array([17, 14, 18])"
      ]
     },
     "execution_count": 109,
     "metadata": {},
     "output_type": "execute_result"
    }
   ],
   "source": [
    "np.random.randint(10,21,3)"
   ]
  },
  {
   "cell_type": "code",
   "execution_count": 113,
   "id": "a7469ff4-f090-46b1-89cd-4bd74dd37dc3",
   "metadata": {},
   "outputs": [
    {
     "data": {
      "text/plain": [
       "8"
      ]
     },
     "execution_count": 113,
     "metadata": {},
     "output_type": "execute_result"
    }
   ],
   "source": [
    "np.random.randint(5,9)  #GET THE VALUE <=1 & >=5"
   ]
  },
  {
   "cell_type": "code",
   "execution_count": 115,
   "id": "5d79ffbd-9440-4677-8e22-7289a5a598a6",
   "metadata": {},
   "outputs": [
    {
     "data": {
      "text/plain": [
       "array([[6, 9, 2, 5, 3, 9, 1, 1, 2, 3],\n",
       "       [5, 4, 5, 9, 2, 4, 3, 8, 7, 5],\n",
       "       [3, 8, 7, 7, 3, 4, 7, 1, 8, 9],\n",
       "       [3, 6, 9, 3, 8, 1, 4, 3, 4, 6],\n",
       "       [6, 9, 2, 7, 5, 2, 4, 3, 9, 5],\n",
       "       [4, 5, 8, 5, 2, 6, 1, 4, 9, 1]])"
      ]
     },
     "execution_count": 115,
     "metadata": {},
     "output_type": "execute_result"
    }
   ],
   "source": [
    "np.random.randint(1,10,(6,10))"
   ]
  },
  {
   "cell_type": "code",
   "execution_count": 117,
   "id": "fe30b728-f072-4fc1-9cd4-23c7cc852b33",
   "metadata": {},
   "outputs": [
    {
     "data": {
      "text/plain": [
       "array([[2.59693198e-01, 8.98503736e-01, 4.45456717e-01, 2.48529591e-02,\n",
       "        6.94596626e-02, 7.28622066e-01, 6.77227241e-02, 3.03241468e-01,\n",
       "        8.91434547e-01, 3.68757053e-01, 5.74060546e-01, 3.00302250e-01,\n",
       "        7.04003297e-01, 9.27296549e-01, 9.61794086e-01, 4.23587039e-01,\n",
       "        4.92002183e-01, 8.50987053e-01, 7.60967376e-01, 9.50339461e-01,\n",
       "        9.51444790e-01, 9.81612210e-02, 3.55432894e-01, 9.24002532e-01,\n",
       "        8.18739948e-01, 5.90514969e-01, 6.06013720e-01, 6.56138422e-01,\n",
       "        6.39188577e-01, 7.57896923e-01],\n",
       "       [1.63838222e-01, 9.02621011e-01, 6.33685933e-01, 7.55646135e-01,\n",
       "        8.25156849e-01, 6.51360823e-02, 6.97722834e-01, 8.39148217e-01,\n",
       "        7.88868080e-02, 5.32881898e-01, 9.56672258e-01, 8.96158358e-02,\n",
       "        2.15103630e-01, 4.17132413e-01, 5.61307069e-01, 5.75983920e-02,\n",
       "        5.91714875e-01, 4.20079349e-01, 6.12362911e-02, 9.18778875e-01,\n",
       "        6.52576381e-01, 7.38582437e-02, 9.48743718e-02, 6.32611543e-01,\n",
       "        8.98143141e-02, 7.87081721e-02, 5.56930905e-01, 7.88358936e-01,\n",
       "        7.41763348e-01, 6.24097783e-02],\n",
       "       [4.80872633e-01, 6.75203393e-01, 7.66428344e-01, 5.28327427e-01,\n",
       "        5.43840170e-01, 1.27093777e-01, 8.46722568e-01, 2.54031655e-01,\n",
       "        7.16237113e-01, 3.35326241e-02, 1.36849820e-01, 3.75254387e-01,\n",
       "        5.72210098e-01, 2.34983179e-01, 4.18640573e-01, 8.37323745e-01,\n",
       "        5.22503964e-02, 9.23932991e-01, 6.90789905e-01, 2.74624409e-01,\n",
       "        6.75494522e-01, 9.93941939e-01, 9.70319097e-02, 9.03806353e-02,\n",
       "        1.54557219e-02, 8.74139004e-01, 1.76313771e-01, 4.81416506e-01,\n",
       "        1.02203087e-01, 4.95287127e-01],\n",
       "       [1.09388952e-01, 3.64833542e-02, 3.61215126e-01, 9.63922606e-01,\n",
       "        8.58631748e-01, 8.52168189e-01, 3.07900217e-01, 7.26005442e-01,\n",
       "        9.83281149e-01, 6.33669429e-01, 4.92661091e-01, 7.50575693e-01,\n",
       "        3.70536407e-01, 3.61675926e-01, 3.01630076e-01, 5.97221551e-01,\n",
       "        4.93112712e-02, 1.75404055e-01, 7.73408420e-01, 4.85882833e-01,\n",
       "        2.52505582e-01, 4.66654301e-01, 5.05585424e-02, 8.57874112e-01,\n",
       "        6.28007931e-01, 8.57238655e-01, 8.05368130e-01, 7.45412017e-01,\n",
       "        4.34386884e-01, 5.25988481e-01],\n",
       "       [6.26996942e-01, 3.25672191e-01, 7.35248302e-01, 7.94219284e-01,\n",
       "        2.39999708e-01, 9.92668137e-01, 2.27526217e-01, 4.36389793e-01,\n",
       "        3.73378752e-01, 4.76886168e-01, 3.28891986e-01, 8.98916256e-01,\n",
       "        8.74774205e-01, 3.23307813e-01, 4.45112938e-01, 2.46661188e-02,\n",
       "        9.25758024e-01, 3.01829230e-01, 5.64248011e-01, 6.03130763e-01,\n",
       "        5.72390958e-01, 6.53419322e-01, 4.99874200e-02, 5.15818072e-01,\n",
       "        1.68367815e-01, 1.89981228e-01, 8.97546427e-01, 5.87857171e-01,\n",
       "        4.78912577e-01, 8.18998436e-01],\n",
       "       [5.66976012e-01, 3.32928869e-01, 2.00753516e-01, 5.64979665e-01,\n",
       "        2.04218456e-02, 3.76888165e-01, 7.55295445e-01, 4.41146624e-01,\n",
       "        2.34261394e-01, 2.17367653e-01, 7.87373313e-01, 4.24964090e-01,\n",
       "        5.65526721e-01, 4.66004731e-01, 6.70429874e-01, 2.47199142e-01,\n",
       "        5.77015161e-01, 2.47818839e-01, 3.24612084e-01, 1.96797555e-01,\n",
       "        1.71535315e-01, 4.07831253e-01, 3.20640425e-01, 5.70291413e-01,\n",
       "        4.07240381e-01, 9.10483088e-01, 9.22817479e-01, 9.16244819e-01,\n",
       "        8.65454959e-01, 7.62071863e-01],\n",
       "       [9.63761391e-01, 1.07981238e-02, 7.27674037e-01, 9.60788274e-02,\n",
       "        7.41170753e-01, 3.92179632e-01, 6.26681225e-02, 4.58216569e-01,\n",
       "        2.31653894e-02, 6.08221156e-01, 7.24963780e-01, 2.34206084e-02,\n",
       "        2.86728038e-01, 5.74578100e-01, 9.12570132e-01, 9.07242263e-01,\n",
       "        5.73339096e-01, 5.18018366e-01, 5.12847447e-01, 1.73403846e-01,\n",
       "        3.72459637e-01, 1.92367777e-01, 3.88721863e-01, 4.59790754e-01,\n",
       "        6.22867758e-01, 5.68719237e-02, 6.28098213e-01, 5.26273093e-02,\n",
       "        1.73509531e-01, 5.74099661e-01],\n",
       "       [7.76658939e-01, 2.30278918e-01, 6.59444253e-02, 2.31094586e-01,\n",
       "        3.80651428e-01, 1.90620449e-01, 2.47319704e-01, 7.22859329e-01,\n",
       "        8.32433753e-01, 2.52602129e-01, 1.20513313e-02, 9.57667120e-02,\n",
       "        9.49075819e-01, 2.45369783e-01, 9.17015573e-01, 8.44438056e-01,\n",
       "        7.51539465e-01, 1.30731254e-01, 7.08688645e-01, 4.13353806e-02,\n",
       "        5.76668304e-01, 4.97169478e-02, 3.74040598e-01, 3.53709462e-01,\n",
       "        4.96410679e-01, 8.61762207e-01, 9.81461794e-01, 1.50533130e-02,\n",
       "        3.40117710e-01, 4.68150228e-01],\n",
       "       [7.95983601e-01, 9.20497380e-01, 6.37943305e-02, 4.14430503e-02,\n",
       "        9.87203548e-01, 2.29637234e-01, 2.83503448e-01, 4.64910358e-01,\n",
       "        7.74981120e-01, 5.48834500e-02, 8.77175118e-01, 1.49655219e-01,\n",
       "        5.56049361e-01, 7.38169149e-02, 5.71069900e-02, 7.47555401e-01,\n",
       "        1.78867945e-01, 1.97028561e-02, 9.67178964e-01, 6.44470445e-01,\n",
       "        7.48432767e-01, 4.87575588e-01, 2.47098825e-02, 6.09933273e-01,\n",
       "        3.11951025e-01, 7.66365340e-01, 5.76333529e-01, 9.22908211e-02,\n",
       "        1.70705770e-01, 2.97408116e-01],\n",
       "       [4.80588674e-01, 4.21032317e-01, 8.02723727e-01, 4.68584278e-01,\n",
       "        5.44232306e-01, 1.45019035e-01, 7.61398159e-01, 2.52157657e-01,\n",
       "        8.56360698e-03, 5.62028814e-01, 9.57468341e-01, 4.14975672e-01,\n",
       "        1.29789139e-01, 7.46792083e-01, 8.31803048e-01, 9.95475837e-01,\n",
       "        9.54038783e-01, 8.94590446e-01, 5.15084494e-01, 8.58888183e-01,\n",
       "        2.62076923e-01, 3.11814532e-01, 5.74620393e-01, 9.86361901e-02,\n",
       "        9.25091259e-01, 4.72813330e-01, 9.54409605e-01, 2.15837819e-01,\n",
       "        6.24303088e-01, 5.00689419e-01],\n",
       "       [5.01694356e-01, 9.32631399e-01, 4.44558987e-02, 5.21647394e-01,\n",
       "        2.73903364e-01, 7.50728402e-01, 2.29396518e-01, 5.27300868e-01,\n",
       "        1.49621910e-01, 2.59766520e-01, 3.97282707e-02, 2.15821623e-01,\n",
       "        4.76847687e-03, 3.23148930e-01, 4.25470290e-01, 1.24125919e-01,\n",
       "        3.84390042e-01, 3.99223316e-01, 5.91318422e-02, 8.77022105e-01,\n",
       "        5.00046678e-01, 5.30947757e-01, 5.41343110e-01, 9.21183069e-01,\n",
       "        5.47906995e-01, 1.72525810e-01, 2.16317273e-01, 7.43228192e-01,\n",
       "        7.78276076e-01, 2.23703792e-01],\n",
       "       [5.56637430e-01, 4.53055842e-01, 3.50565618e-01, 9.57878403e-01,\n",
       "        1.15643620e-01, 7.45473213e-01, 3.42229295e-01, 8.46953946e-01,\n",
       "        8.67010721e-01, 4.68232639e-01, 1.91501075e-02, 7.86606899e-01,\n",
       "        9.44585515e-01, 8.81182747e-01, 6.00733861e-01, 5.90886447e-01,\n",
       "        8.38935867e-01, 9.58441094e-01, 9.34511099e-02, 6.39785775e-01,\n",
       "        1.40669918e-01, 2.56235591e-01, 8.66116089e-01, 2.87669904e-01,\n",
       "        9.31635222e-01, 6.31910252e-01, 9.92370248e-01, 1.62281898e-01,\n",
       "        8.27004867e-01, 6.23441313e-01],\n",
       "       [7.85830086e-02, 5.24906945e-01, 1.47218806e-02, 2.46413043e-01,\n",
       "        9.79887283e-01, 8.07217323e-01, 8.01169088e-01, 8.03437587e-01,\n",
       "        2.77617640e-01, 3.62302032e-01, 1.08646398e-01, 6.14636739e-01,\n",
       "        1.12419880e-01, 7.14899778e-01, 1.33190260e-01, 5.31463607e-01,\n",
       "        3.38533306e-01, 1.23071998e-01, 4.20704772e-01, 9.87059531e-01,\n",
       "        3.28141139e-03, 3.58702112e-01, 4.78759757e-02, 1.97904577e-01,\n",
       "        9.93205028e-01, 2.72791855e-01, 3.76072370e-01, 6.65593865e-01,\n",
       "        1.65239678e-01, 5.15587020e-01],\n",
       "       [3.72765718e-01, 6.70527424e-01, 8.59428461e-01, 6.36547714e-01,\n",
       "        2.28521869e-01, 4.41927146e-01, 4.56377103e-01, 4.23942890e-01,\n",
       "        4.14556232e-01, 9.05805769e-01, 5.74707866e-01, 9.13044796e-01,\n",
       "        5.31158378e-01, 6.03735103e-01, 1.08207366e-01, 5.98083182e-01,\n",
       "        3.01051307e-01, 8.40503833e-01, 4.79673891e-01, 4.12153874e-01,\n",
       "        9.71520218e-01, 5.72535272e-01, 3.53799448e-01, 8.85829315e-01,\n",
       "        7.53652669e-01, 5.88084064e-01, 7.97068647e-01, 9.94113720e-01,\n",
       "        7.25028703e-01, 6.33679469e-01],\n",
       "       [5.74835369e-01, 1.09074308e-01, 1.35359677e-01, 5.23820664e-01,\n",
       "        6.05418668e-01, 2.94480280e-01, 7.71412761e-01, 5.93678851e-01,\n",
       "        8.49521103e-01, 3.45545060e-01, 6.88127403e-01, 4.25514880e-01,\n",
       "        5.22961207e-01, 7.93338604e-01, 8.41940657e-02, 6.02490250e-01,\n",
       "        5.59117157e-01, 6.73605902e-01, 6.96775576e-01, 9.47569330e-01,\n",
       "        5.59124866e-01, 7.85178139e-01, 3.62342189e-01, 5.07374071e-01,\n",
       "        6.57512863e-01, 2.29728417e-01, 8.12277204e-01, 6.52446696e-01,\n",
       "        7.30860554e-01, 7.20314623e-01],\n",
       "       [5.79637657e-02, 2.77425661e-01, 4.39001642e-01, 5.30513448e-01,\n",
       "        1.11011449e-01, 7.97116705e-01, 1.32345827e-01, 6.59298462e-02,\n",
       "        2.00891310e-01, 8.66638714e-01, 1.44621258e-01, 2.19089861e-03,\n",
       "        1.88693443e-02, 6.07905877e-01, 7.65038827e-01, 5.24072245e-01,\n",
       "        2.93542975e-01, 7.71325663e-01, 8.94499856e-01, 2.27079421e-01,\n",
       "        2.00728957e-01, 6.21245773e-02, 4.63947086e-01, 2.14168413e-01,\n",
       "        1.67929284e-01, 7.91777335e-01, 9.63979106e-01, 4.05799266e-01,\n",
       "        7.52017385e-01, 6.99599798e-03],\n",
       "       [7.96064553e-01, 9.95490104e-01, 8.86184969e-01, 4.87471277e-01,\n",
       "        6.18450520e-01, 7.92116803e-01, 1.94835185e-01, 6.85802747e-02,\n",
       "        7.30163192e-01, 4.31353674e-01, 1.82120398e-01, 4.53303236e-01,\n",
       "        4.97803351e-01, 7.78350464e-01, 6.52702262e-01, 5.15615801e-01,\n",
       "        1.34370784e-02, 9.31751066e-01, 6.95251068e-01, 3.47160090e-01,\n",
       "        8.88799413e-01, 2.52504166e-01, 5.59346471e-01, 2.59204664e-01,\n",
       "        5.01141365e-01, 3.67323049e-01, 2.53923126e-01, 9.52887641e-01,\n",
       "        5.76060897e-01, 4.19996045e-01],\n",
       "       [7.36726187e-01, 1.25134657e-01, 8.62752821e-01, 6.79187665e-01,\n",
       "        4.51816817e-01, 7.93726917e-01, 3.46821625e-01, 5.79815899e-02,\n",
       "        2.92603126e-01, 9.81451484e-01, 2.18664889e-01, 7.84592466e-01,\n",
       "        9.58356150e-01, 7.85958681e-01, 3.26240446e-01, 4.36456200e-01,\n",
       "        9.17961461e-01, 5.79648935e-01, 1.11958865e-01, 3.94016747e-01,\n",
       "        8.27396834e-02, 9.27768208e-01, 1.00741451e-01, 4.46076178e-01,\n",
       "        2.36048638e-01, 1.06064776e-02, 6.44011340e-01, 2.59005308e-01,\n",
       "        9.34342324e-01, 8.14926897e-01],\n",
       "       [8.27645890e-01, 3.59165805e-01, 7.74938178e-01, 5.94297800e-02,\n",
       "        5.54268683e-01, 6.71801348e-01, 6.93330612e-01, 6.55512141e-02,\n",
       "        3.23273050e-01, 8.41393912e-01, 6.33664169e-01, 1.97314275e-01,\n",
       "        3.27874683e-01, 2.21261751e-01, 5.61538186e-01, 7.03456864e-01,\n",
       "        9.03940491e-01, 5.92966265e-01, 1.50552034e-01, 8.59769724e-01,\n",
       "        1.00898878e-01, 1.03630293e-01, 6.71305058e-01, 2.63890153e-01,\n",
       "        3.60496126e-01, 4.80920866e-01, 6.59095910e-01, 6.70217347e-01,\n",
       "        1.68875981e-02, 4.69399364e-02],\n",
       "       [6.15664145e-01, 9.93357705e-01, 5.98137549e-01, 3.98357786e-01,\n",
       "        4.31843630e-01, 2.41848977e-01, 3.32511555e-04, 2.69469405e-02,\n",
       "        6.30323727e-01, 6.70645366e-01, 7.80170872e-01, 2.33519511e-01,\n",
       "        7.55018974e-01, 7.68005633e-01, 9.14364371e-02, 9.94428122e-01,\n",
       "        5.56312471e-01, 3.76394609e-01, 3.83391159e-01, 7.50331465e-01,\n",
       "        7.79326382e-01, 3.94018028e-02, 1.95726024e-02, 3.59617393e-01,\n",
       "        9.65283457e-01, 1.93152717e-01, 2.25973516e-02, 1.59267541e-03,\n",
       "        6.50918902e-01, 5.95305641e-02]])"
      ]
     },
     "execution_count": 117,
     "metadata": {},
     "output_type": "execute_result"
    }
   ],
   "source": [
    "np.random.rand(20,30)"
   ]
  },
  {
   "cell_type": "code",
   "execution_count": 119,
   "id": "ce7ab8eb-b25b-47c3-a52d-ee28ab10dce7",
   "metadata": {},
   "outputs": [
    {
     "data": {
      "text/plain": [
       "array([[0.3519976 , 0.04345955, 0.23739889, 0.33269728, 0.40624925,\n",
       "        0.97095133, 0.47725833, 0.59637629, 0.73076017],\n",
       "       [0.90320359, 0.24914435, 0.67432342, 0.20192022, 0.67201608,\n",
       "        0.13516271, 0.28642754, 0.77295581, 0.53908426],\n",
       "       [0.2613774 , 0.91376424, 0.80599482, 0.99225142, 0.41482354,\n",
       "        0.5554168 , 0.61219359, 0.61553877, 0.66972868],\n",
       "       [0.28689069, 0.3407645 , 0.75145562, 0.04349142, 0.32264622,\n",
       "        0.10134876, 0.80221172, 0.47833291, 0.35348699],\n",
       "       [0.35053566, 0.66800726, 0.01077699, 0.17193577, 0.55107729,\n",
       "        0.19045068, 0.05664063, 0.9133506 , 0.73718949],\n",
       "       [0.80320806, 0.48714694, 0.57298415, 0.36055712, 0.5527174 ,\n",
       "        0.02895492, 0.67203206, 0.36494305, 0.87618376],\n",
       "       [0.78403116, 0.00808515, 0.63526285, 0.97388892, 0.21658915,\n",
       "        0.92000561, 0.18802338, 0.51093245, 0.67964887],\n",
       "       [0.45381064, 0.0787703 , 0.64081797, 0.55610506, 0.18025371,\n",
       "        0.84828187, 0.64303045, 0.24387714, 0.90345783],\n",
       "       [0.57785801, 0.79897592, 0.94103548, 0.72115736, 0.45173056,\n",
       "        0.82236595, 0.83617287, 0.75831617, 0.77054661]])"
      ]
     },
     "execution_count": 119,
     "metadata": {},
     "output_type": "execute_result"
    }
   ],
   "source": [
    "np.random.rand(9,9)"
   ]
  },
  {
   "cell_type": "code",
   "execution_count": 411,
   "id": "6b0bedf9-72ec-4f69-a34b-19b9b5a72685",
   "metadata": {},
   "outputs": [
    {
     "data": {
      "text/plain": [
       "1"
      ]
     },
     "execution_count": 411,
     "metadata": {},
     "output_type": "execute_result"
    }
   ],
   "source": [
    "np.random.randint(0,5)"
   ]
  },
  {
   "cell_type": "code",
   "execution_count": 121,
   "id": "ca31c42a-e73f-4928-950f-3fddbff1f42e",
   "metadata": {},
   "outputs": [
    {
     "data": {
      "text/plain": [
       "array([[10, 18, 13, 10, 29, 19, 35, 11, 39, 35],\n",
       "       [17, 32, 11, 20, 34, 29, 32, 39, 29, 39],\n",
       "       [32, 36, 15, 21, 36, 17, 33, 35, 20, 25],\n",
       "       [26, 15, 25, 25, 27, 12, 29, 12, 15, 28],\n",
       "       [11, 32, 20, 37, 12, 31, 21, 22, 39, 29],\n",
       "       [10, 37, 27, 24, 17, 33, 35, 15, 24, 15],\n",
       "       [39, 12, 14, 36, 35, 36, 21, 39, 12, 30],\n",
       "       [12, 29, 21, 15, 21, 27, 24, 29, 38, 14],\n",
       "       [10, 18, 15, 16, 31, 11, 16, 38, 34, 12],\n",
       "       [17, 28, 28, 20, 38, 14, 12, 30, 24, 26]])"
      ]
     },
     "execution_count": 121,
     "metadata": {},
     "output_type": "execute_result"
    }
   ],
   "source": [
    "np.random.randint(10,40,(10,10)) #generre the element 10 -30 with 4*4 mtri"
   ]
  },
  {
   "cell_type": "code",
   "execution_count": 123,
   "id": "713bcf1d-f5f6-43f6-a706-b8c283077165",
   "metadata": {},
   "outputs": [
    {
     "data": {
      "text/plain": [
       "73"
      ]
     },
     "execution_count": 123,
     "metadata": {},
     "output_type": "execute_result"
    }
   ],
   "source": [
    "np.random.randint(9,77)"
   ]
  },
  {
   "cell_type": "code",
   "execution_count": 125,
   "id": "b3159705-43c1-4498-a77a-01539bbcaca2",
   "metadata": {},
   "outputs": [
    {
     "data": {
      "text/plain": [
       "0"
      ]
     },
     "execution_count": 125,
     "metadata": {},
     "output_type": "execute_result"
    }
   ],
   "source": [
    "np.random. randint(0,2)"
   ]
  },
  {
   "cell_type": "code",
   "execution_count": 127,
   "id": "9a5b5c52-cba6-42ed-aa54-875866a7d8c7",
   "metadata": {},
   "outputs": [
    {
     "data": {
      "text/plain": [
       "array([[12, 17, 12, 16],\n",
       "       [10, 12, 19, 16],\n",
       "       [12, 16, 16, 19],\n",
       "       [10, 10, 16, 15],\n",
       "       [11, 11, 19, 19]])"
      ]
     },
     "execution_count": 127,
     "metadata": {},
     "output_type": "execute_result"
    }
   ],
   "source": [
    "b = np.random.randint(10,20,(5,4))\n",
    "b"
   ]
  },
  {
   "cell_type": "code",
   "execution_count": 129,
   "id": "a01c3c96-d68f-4e2e-ac30-57f6aefb188f",
   "metadata": {},
   "outputs": [
    {
     "data": {
      "text/plain": [
       "array([[12, 17, 12, 16],\n",
       "       [10, 12, 19, 16],\n",
       "       [12, 16, 16, 19],\n",
       "       [10, 10, 16, 15],\n",
       "       [11, 11, 19, 19]])"
      ]
     },
     "execution_count": 129,
     "metadata": {},
     "output_type": "execute_result"
    }
   ],
   "source": [
    "b[:]"
   ]
  },
  {
   "cell_type": "code",
   "execution_count": 131,
   "id": "95e54724-1f05-426f-b8ee-04a59d9ffc31",
   "metadata": {},
   "outputs": [
    {
     "data": {
      "text/plain": [
       "array([[12, 17, 12, 16],\n",
       "       [10, 12, 19, 16]])"
      ]
     },
     "execution_count": 131,
     "metadata": {},
     "output_type": "execute_result"
    }
   ],
   "source": [
    "b[0:2]"
   ]
  },
  {
   "cell_type": "code",
   "execution_count": 133,
   "id": "abd60d04-6836-4831-bb78-44e56263abe3",
   "metadata": {},
   "outputs": [
    {
     "data": {
      "text/plain": [
       "array([[12, 17, 12, 16],\n",
       "       [10, 12, 19, 16],\n",
       "       [12, 16, 16, 19],\n",
       "       [10, 10, 16, 15],\n",
       "       [11, 11, 19, 19]])"
      ]
     },
     "execution_count": 133,
     "metadata": {},
     "output_type": "execute_result"
    }
   ],
   "source": [
    "b"
   ]
  },
  {
   "cell_type": "code",
   "execution_count": 135,
   "id": "1d0e6309-04b5-4000-8504-eb0244f8e2c7",
   "metadata": {},
   "outputs": [
    {
     "data": {
      "text/plain": [
       "array([[12, 17, 12, 16],\n",
       "       [10, 12, 19, 16],\n",
       "       [12, 16, 16, 19],\n",
       "       [10, 10, 16, 15]])"
      ]
     },
     "execution_count": 135,
     "metadata": {},
     "output_type": "execute_result"
    }
   ],
   "source": [
    "b[0:-1]"
   ]
  },
  {
   "cell_type": "code",
   "execution_count": 137,
   "id": "ae507baf-231e-4997-a4a4-008e3dea2135",
   "metadata": {},
   "outputs": [
    {
     "data": {
      "text/plain": [
       "6"
      ]
     },
     "execution_count": 137,
     "metadata": {},
     "output_type": "execute_result"
    }
   ],
   "source": [
    "np.random.randint(10)"
   ]
  },
  {
   "cell_type": "code",
   "execution_count": 139,
   "id": "c8568fbb-84a1-4ce0-9842-f51ad70c3558",
   "metadata": {},
   "outputs": [
    {
     "data": {
      "text/plain": [
       "array([1, 1, 1])"
      ]
     },
     "execution_count": 139,
     "metadata": {},
     "output_type": "execute_result"
    }
   ],
   "source": [
    "np.random.randint(1,2,3)"
   ]
  },
  {
   "cell_type": "code",
   "execution_count": 141,
   "id": "18214e82-4f13-4022-b7f7-df05d087786c",
   "metadata": {},
   "outputs": [
    {
     "data": {
      "text/plain": [
       "array([13, 14, 12])"
      ]
     },
     "execution_count": 141,
     "metadata": {},
     "output_type": "execute_result"
    }
   ],
   "source": [
    "np.random.randint(11,15,3)"
   ]
  },
  {
   "cell_type": "code",
   "execution_count": 143,
   "id": "dc9d067b-a68d-49fb-819f-f016b240f940",
   "metadata": {},
   "outputs": [
    {
     "data": {
      "text/plain": [
       "array([[20, 35, 19, 23, 28],\n",
       "       [22, 15, 28, 17, 28],\n",
       "       [29, 29, 19, 27, 19],\n",
       "       [12, 18, 17, 35, 22],\n",
       "       [14, 16, 15, 29, 16],\n",
       "       [19, 14, 16, 21, 30],\n",
       "       [25, 33, 26, 23, 29],\n",
       "       [18, 26, 31, 14, 19],\n",
       "       [34, 23, 17, 22, 19],\n",
       "       [24, 21, 31, 16, 19],\n",
       "       [18, 34, 32, 17, 26]])"
      ]
     },
     "execution_count": 143,
     "metadata": {},
     "output_type": "execute_result"
    }
   ],
   "source": [
    "np.random.randint(9,36,(11,5))"
   ]
  },
  {
   "cell_type": "code",
   "execution_count": 145,
   "id": "5371150e-4600-466f-8fcb-f60ff57a05aa",
   "metadata": {},
   "outputs": [
    {
     "data": {
      "text/plain": [
       "array([[14, 19, 14, 17, 10],\n",
       "       [14,  9, 10, 16,  9],\n",
       "       [19, 10, 11, 18, 12],\n",
       "       [19, 15, 12, 19,  8],\n",
       "       [15, 11, 15, 17, 15],\n",
       "       [12, 18, 18, 15, 14],\n",
       "       [17, 16, 10, 17, 16],\n",
       "       [18,  9, 18,  8, 14],\n",
       "       [19, 17, 10, 13, 19]])"
      ]
     },
     "execution_count": 145,
     "metadata": {},
     "output_type": "execute_result"
    }
   ],
   "source": [
    "b = np.random.randint(8,20,(9,5))\n",
    "b"
   ]
  },
  {
   "cell_type": "code",
   "execution_count": 147,
   "id": "6fc1ef81-ac4a-4f05-9c79-a78a4447888c",
   "metadata": {},
   "outputs": [
    {
     "data": {
      "text/plain": [
       "array([[14, 19, 14, 17, 10],\n",
       "       [14,  9, 10, 16,  9],\n",
       "       [19, 10, 11, 18, 12],\n",
       "       [19, 15, 12, 19,  8],\n",
       "       [15, 11, 15, 17, 15],\n",
       "       [12, 18, 18, 15, 14],\n",
       "       [17, 16, 10, 17, 16],\n",
       "       [18,  9, 18,  8, 14],\n",
       "       [19, 17, 10, 13, 19]])"
      ]
     },
     "execution_count": 147,
     "metadata": {},
     "output_type": "execute_result"
    }
   ],
   "source": [
    "b[:]"
   ]
  },
  {
   "cell_type": "code",
   "execution_count": 149,
   "id": "ccffc947-f28d-4f89-ab4c-35a1e0e32702",
   "metadata": {},
   "outputs": [
    {
     "data": {
      "text/plain": [
       "array([[19, 10, 11, 18, 12],\n",
       "       [19, 15, 12, 19,  8],\n",
       "       [15, 11, 15, 17, 15],\n",
       "       [12, 18, 18, 15, 14],\n",
       "       [17, 16, 10, 17, 16],\n",
       "       [18,  9, 18,  8, 14],\n",
       "       [19, 17, 10, 13, 19]])"
      ]
     },
     "execution_count": 149,
     "metadata": {},
     "output_type": "execute_result"
    }
   ],
   "source": [
    "b[2:9]"
   ]
  },
  {
   "cell_type": "code",
   "execution_count": 151,
   "id": "6c5caf32-c3fa-4a4e-b9b8-df3349faabab",
   "metadata": {},
   "outputs": [
    {
     "data": {
      "text/plain": [
       "array([[14, 19, 14, 17, 10],\n",
       "       [14,  9, 10, 16,  9],\n",
       "       [19, 10, 11, 18, 12],\n",
       "       [19, 15, 12, 19,  8]])"
      ]
     },
     "execution_count": 151,
     "metadata": {},
     "output_type": "execute_result"
    }
   ],
   "source": [
    "b[0:4]"
   ]
  },
  {
   "cell_type": "code",
   "execution_count": 153,
   "id": "c2a374df-c003-4d6b-a9e9-eb596101a838",
   "metadata": {},
   "outputs": [
    {
     "data": {
      "text/plain": [
       "array([[15, 11, 15, 17, 15],\n",
       "       [12, 18, 18, 15, 14]])"
      ]
     },
     "execution_count": 153,
     "metadata": {},
     "output_type": "execute_result"
    }
   ],
   "source": [
    "b[4:6]"
   ]
  },
  {
   "cell_type": "code",
   "execution_count": 155,
   "id": "ce4bf25f-9378-43a1-8836-34ebe39c237e",
   "metadata": {},
   "outputs": [
    {
     "data": {
      "text/plain": [
       "array([[14, 19, 14, 17, 10],\n",
       "       [14,  9, 10, 16,  9],\n",
       "       [19, 10, 11, 18, 12],\n",
       "       [19, 15, 12, 19,  8],\n",
       "       [15, 11, 15, 17, 15],\n",
       "       [12, 18, 18, 15, 14],\n",
       "       [17, 16, 10, 17, 16],\n",
       "       [18,  9, 18,  8, 14],\n",
       "       [19, 17, 10, 13, 19]])"
      ]
     },
     "execution_count": 155,
     "metadata": {},
     "output_type": "execute_result"
    }
   ],
   "source": [
    "b"
   ]
  },
  {
   "cell_type": "code",
   "execution_count": 157,
   "id": "a719d281-9de3-41f8-82df-5336f5df12df",
   "metadata": {},
   "outputs": [
    {
     "data": {
      "text/plain": [
       "10"
      ]
     },
     "execution_count": 157,
     "metadata": {},
     "output_type": "execute_result"
    }
   ],
   "source": [
    "b[0,4]"
   ]
  },
  {
   "cell_type": "code",
   "execution_count": 159,
   "id": "39ac1977-3990-46fb-9d57-f40a36867789",
   "metadata": {},
   "outputs": [
    {
     "data": {
      "text/plain": [
       "9"
      ]
     },
     "execution_count": 159,
     "metadata": {},
     "output_type": "execute_result"
    }
   ],
   "source": [
    "b[-2,-4]"
   ]
  },
  {
   "cell_type": "code",
   "execution_count": 161,
   "id": "b7d5bdc8-dc3e-4162-97d3-2d72f6f11348",
   "metadata": {},
   "outputs": [
    {
     "data": {
      "text/plain": [
       "12"
      ]
     },
     "execution_count": 161,
     "metadata": {},
     "output_type": "execute_result"
    }
   ],
   "source": [
    "b[-4,-5]"
   ]
  },
  {
   "cell_type": "markdown",
   "id": "c1915512-8273-4b71-9eb4-ad5efdbdd621",
   "metadata": {},
   "source": [
    "#  OPERATIONS"
   ]
  },
  {
   "cell_type": "code",
   "execution_count": 166,
   "id": "7e9dd467-cdfb-4530-9ef1-4913dd744790",
   "metadata": {},
   "outputs": [
    {
     "data": {
      "text/plain": [
       "array([14, 10, 12, 15, 16])"
      ]
     },
     "execution_count": 166,
     "metadata": {},
     "output_type": "execute_result"
    }
   ],
   "source": [
    "a = np.random.randint(10,20,5)\n",
    "a"
   ]
  },
  {
   "cell_type": "code",
   "execution_count": 168,
   "id": "740504ca-119b-4b92-836d-95051f85791d",
   "metadata": {},
   "outputs": [
    {
     "data": {
      "text/plain": [
       "array([0, 1, 2, 3, 4, 5])"
      ]
     },
     "execution_count": 168,
     "metadata": {},
     "output_type": "execute_result"
    }
   ],
   "source": [
    "arr"
   ]
  },
  {
   "cell_type": "code",
   "execution_count": 170,
   "id": "51968d9a-96b0-446d-a0bb-7bfc42ff1bf6",
   "metadata": {},
   "outputs": [],
   "source": [
    "arr2 = np.random.randint(0,100,(10,10))"
   ]
  },
  {
   "cell_type": "code",
   "execution_count": 172,
   "id": "0c8328f6-3f72-441b-aa98-dbe59f787dd8",
   "metadata": {},
   "outputs": [
    {
     "data": {
      "text/plain": [
       "array([[23, 74, 41, 46,  2, 89, 44, 64, 24, 43],\n",
       "       [85,  0, 20, 45, 50, 83, 72, 27, 66, 54],\n",
       "       [82, 12, 29, 83, 79, 36,  2, 65, 97, 45],\n",
       "       [92, 23, 95, 68, 78, 50, 28, 41,  3, 37],\n",
       "       [27, 49, 17, 26, 22, 66, 94, 33, 57, 89],\n",
       "       [32,  4, 69, 29, 86, 71, 10, 55, 63, 42],\n",
       "       [51,  1, 85, 40, 29, 83, 35, 50, 61, 23],\n",
       "       [17, 85, 99, 22, 26, 39, 11, 42, 33, 90],\n",
       "       [77, 84, 50,  5, 94, 76, 48, 41, 74, 23],\n",
       "       [36, 75, 43, 38, 19, 62, 11, 83, 18, 72]])"
      ]
     },
     "execution_count": 172,
     "metadata": {},
     "output_type": "execute_result"
    }
   ],
   "source": [
    "arr2"
   ]
  },
  {
   "cell_type": "code",
   "execution_count": 174,
   "id": "ccc25b33-e639-4342-b69a-e95ca55a80bd",
   "metadata": {},
   "outputs": [
    {
     "data": {
      "text/plain": [
       "array([0, 1, 2, 3, 4, 5])"
      ]
     },
     "execution_count": 174,
     "metadata": {},
     "output_type": "execute_result"
    }
   ],
   "source": [
    "arr"
   ]
  },
  {
   "cell_type": "code",
   "execution_count": 176,
   "id": "a27fc5fe-56b0-4f70-afa7-af182ddbca56",
   "metadata": {},
   "outputs": [
    {
     "data": {
      "text/plain": [
       "array([0, 1, 2, 3, 4, 5])"
      ]
     },
     "execution_count": 176,
     "metadata": {},
     "output_type": "execute_result"
    }
   ],
   "source": [
    "arr[:]"
   ]
  },
  {
   "cell_type": "code",
   "execution_count": 178,
   "id": "33e7626a-03ad-4360-87d0-d6debc8e82b4",
   "metadata": {},
   "outputs": [
    {
     "data": {
      "text/plain": [
       "array([0, 1, 2, 3])"
      ]
     },
     "execution_count": 178,
     "metadata": {},
     "output_type": "execute_result"
    }
   ],
   "source": [
    "arr[:4]"
   ]
  },
  {
   "cell_type": "code",
   "execution_count": 180,
   "id": "ccbc14d9-20f0-4133-a366-13635e373095",
   "metadata": {},
   "outputs": [
    {
     "data": {
      "text/plain": [
       "array([[23, 74, 41, 46,  2, 89, 44, 64, 24, 43],\n",
       "       [85,  0, 20, 45, 50, 83, 72, 27, 66, 54],\n",
       "       [82, 12, 29, 83, 79, 36,  2, 65, 97, 45],\n",
       "       [92, 23, 95, 68, 78, 50, 28, 41,  3, 37],\n",
       "       [27, 49, 17, 26, 22, 66, 94, 33, 57, 89],\n",
       "       [32,  4, 69, 29, 86, 71, 10, 55, 63, 42],\n",
       "       [51,  1, 85, 40, 29, 83, 35, 50, 61, 23],\n",
       "       [17, 85, 99, 22, 26, 39, 11, 42, 33, 90],\n",
       "       [77, 84, 50,  5, 94, 76, 48, 41, 74, 23],\n",
       "       [36, 75, 43, 38, 19, 62, 11, 83, 18, 72]])"
      ]
     },
     "execution_count": 180,
     "metadata": {},
     "output_type": "execute_result"
    }
   ],
   "source": [
    "arr2[:]"
   ]
  },
  {
   "cell_type": "code",
   "execution_count": 182,
   "id": "4dc1eb74-c795-4ee4-96ed-8a1209059325",
   "metadata": {},
   "outputs": [
    {
     "data": {
      "text/plain": [
       "array([[23, 74, 41, 46,  2, 89, 44, 64, 24, 43],\n",
       "       [85,  0, 20, 45, 50, 83, 72, 27, 66, 54],\n",
       "       [82, 12, 29, 83, 79, 36,  2, 65, 97, 45],\n",
       "       [92, 23, 95, 68, 78, 50, 28, 41,  3, 37],\n",
       "       [27, 49, 17, 26, 22, 66, 94, 33, 57, 89]])"
      ]
     },
     "execution_count": 182,
     "metadata": {},
     "output_type": "execute_result"
    }
   ],
   "source": [
    "arr2[0:5]"
   ]
  },
  {
   "cell_type": "code",
   "execution_count": 184,
   "id": "68038599-a073-4d2a-a8ae-11791882503e",
   "metadata": {},
   "outputs": [
    {
     "data": {
      "text/plain": [
       "array([[23, 74, 41, 46,  2, 89, 44, 64, 24, 43],\n",
       "       [85,  0, 20, 45, 50, 83, 72, 27, 66, 54],\n",
       "       [82, 12, 29, 83, 79, 36,  2, 65, 97, 45],\n",
       "       [92, 23, 95, 68, 78, 50, 28, 41,  3, 37],\n",
       "       [27, 49, 17, 26, 22, 66, 94, 33, 57, 89],\n",
       "       [32,  4, 69, 29, 86, 71, 10, 55, 63, 42],\n",
       "       [51,  1, 85, 40, 29, 83, 35, 50, 61, 23],\n",
       "       [17, 85, 99, 22, 26, 39, 11, 42, 33, 90],\n",
       "       [77, 84, 50,  5, 94, 76, 48, 41, 74, 23],\n",
       "       [36, 75, 43, 38, 19, 62, 11, 83, 18, 72]])"
      ]
     },
     "execution_count": 184,
     "metadata": {},
     "output_type": "execute_result"
    }
   ],
   "source": [
    "arr2"
   ]
  },
  {
   "cell_type": "code",
   "execution_count": 186,
   "id": "976114e8-0c8a-4a75-9e72-e1a68ae4d648",
   "metadata": {},
   "outputs": [
    {
     "data": {
      "text/plain": [
       "83"
      ]
     },
     "execution_count": 186,
     "metadata": {},
     "output_type": "execute_result"
    }
   ],
   "source": [
    "arr2[1,5]"
   ]
  },
  {
   "cell_type": "code",
   "execution_count": 188,
   "id": "9b904e7c-cc47-4967-99fd-cde71cec4515",
   "metadata": {},
   "outputs": [
    {
     "data": {
      "text/plain": [
       "array([[23, 74, 41, 46,  2, 89, 44, 64, 24, 43],\n",
       "       [85,  0, 20, 45, 50, 83, 72, 27, 66, 54],\n",
       "       [82, 12, 29, 83, 79, 36,  2, 65, 97, 45],\n",
       "       [92, 23, 95, 68, 78, 50, 28, 41,  3, 37],\n",
       "       [27, 49, 17, 26, 22, 66, 94, 33, 57, 89],\n",
       "       [32,  4, 69, 29, 86, 71, 10, 55, 63, 42],\n",
       "       [51,  1, 85, 40, 29, 83, 35, 50, 61, 23],\n",
       "       [17, 85, 99, 22, 26, 39, 11, 42, 33, 90],\n",
       "       [77, 84, 50,  5, 94, 76, 48, 41, 74, 23],\n",
       "       [36, 75, 43, 38, 19, 62, 11, 83, 18, 72]])"
      ]
     },
     "execution_count": 188,
     "metadata": {},
     "output_type": "execute_result"
    }
   ],
   "source": [
    "arr2"
   ]
  },
  {
   "cell_type": "code",
   "execution_count": 190,
   "id": "24756973-3d25-4cc5-9190-4269b8daaa33",
   "metadata": {},
   "outputs": [
    {
     "data": {
      "text/plain": [
       "71"
      ]
     },
     "execution_count": 190,
     "metadata": {},
     "output_type": "execute_result"
    }
   ],
   "source": [
    "arr2[-5,5]"
   ]
  },
  {
   "cell_type": "code",
   "execution_count": 192,
   "id": "6c1aaeca-d45c-4038-91ef-5c66cd5a939f",
   "metadata": {},
   "outputs": [
    {
     "data": {
      "text/plain": [
       "71"
      ]
     },
     "execution_count": 192,
     "metadata": {},
     "output_type": "execute_result"
    }
   ],
   "source": [
    "arr2[-5,-5]"
   ]
  },
  {
   "cell_type": "code",
   "execution_count": 194,
   "id": "008b0fbc-d5d7-4773-810b-968de79f576a",
   "metadata": {},
   "outputs": [
    {
     "data": {
      "text/plain": [
       "array([[23, 74, 41, 46,  2, 89, 44, 64, 24, 43],\n",
       "       [85,  0, 20, 45, 50, 83, 72, 27, 66, 54],\n",
       "       [82, 12, 29, 83, 79, 36,  2, 65, 97, 45],\n",
       "       [92, 23, 95, 68, 78, 50, 28, 41,  3, 37],\n",
       "       [27, 49, 17, 26, 22, 66, 94, 33, 57, 89],\n",
       "       [32,  4, 69, 29, 86, 71, 10, 55, 63, 42],\n",
       "       [51,  1, 85, 40, 29, 83, 35, 50, 61, 23],\n",
       "       [17, 85, 99, 22, 26, 39, 11, 42, 33, 90],\n",
       "       [77, 84, 50,  5, 94, 76, 48, 41, 74, 23],\n",
       "       [36, 75, 43, 38, 19, 62, 11, 83, 18, 72]])"
      ]
     },
     "execution_count": 194,
     "metadata": {},
     "output_type": "execute_result"
    }
   ],
   "source": [
    "arr2"
   ]
  },
  {
   "cell_type": "code",
   "execution_count": 196,
   "id": "73c0000d-e07f-4f62-a0b6-6494b196bd7d",
   "metadata": {},
   "outputs": [
    {
     "data": {
      "text/plain": [
       "71"
      ]
     },
     "execution_count": 196,
     "metadata": {},
     "output_type": "execute_result"
    }
   ],
   "source": [
    "arr2[-5,-5]"
   ]
  },
  {
   "cell_type": "code",
   "execution_count": 198,
   "id": "dc3151c3-f882-47b9-9c5f-2ba91135d871",
   "metadata": {},
   "outputs": [
    {
     "data": {
      "text/plain": [
       "array([[23, 74, 41, 46,  2, 89, 44, 64, 24, 43],\n",
       "       [85,  0, 20, 45, 50, 83, 72, 27, 66, 54],\n",
       "       [82, 12, 29, 83, 79, 36,  2, 65, 97, 45],\n",
       "       [92, 23, 95, 68, 78, 50, 28, 41,  3, 37],\n",
       "       [27, 49, 17, 26, 22, 66, 94, 33, 57, 89],\n",
       "       [32,  4, 69, 29, 86, 71, 10, 55, 63, 42],\n",
       "       [51,  1, 85, 40, 29, 83, 35, 50, 61, 23],\n",
       "       [17, 85, 99, 22, 26, 39, 11, 42, 33, 90],\n",
       "       [77, 84, 50,  5, 94, 76, 48, 41, 74, 23],\n",
       "       [36, 75, 43, 38, 19, 62, 11, 83, 18, 72]])"
      ]
     },
     "execution_count": 198,
     "metadata": {},
     "output_type": "execute_result"
    }
   ],
   "source": [
    "arr2"
   ]
  },
  {
   "cell_type": "code",
   "execution_count": 200,
   "id": "fa391beb-d06b-4e75-85f5-a006b6624343",
   "metadata": {},
   "outputs": [
    {
     "data": {
      "text/plain": [
       "18"
      ]
     },
     "execution_count": 200,
     "metadata": {},
     "output_type": "execute_result"
    }
   ],
   "source": [
    "arr2[-1,-2]"
   ]
  },
  {
   "cell_type": "code",
   "execution_count": 202,
   "id": "a0583834-d2c7-4f00-9d2a-d63bb1288529",
   "metadata": {},
   "outputs": [
    {
     "data": {
      "text/plain": [
       "array([[36, 75, 43, 38, 19, 62, 11, 83, 18, 72],\n",
       "       [77, 84, 50,  5, 94, 76, 48, 41, 74, 23],\n",
       "       [17, 85, 99, 22, 26, 39, 11, 42, 33, 90],\n",
       "       [51,  1, 85, 40, 29, 83, 35, 50, 61, 23],\n",
       "       [32,  4, 69, 29, 86, 71, 10, 55, 63, 42],\n",
       "       [27, 49, 17, 26, 22, 66, 94, 33, 57, 89],\n",
       "       [92, 23, 95, 68, 78, 50, 28, 41,  3, 37],\n",
       "       [82, 12, 29, 83, 79, 36,  2, 65, 97, 45],\n",
       "       [85,  0, 20, 45, 50, 83, 72, 27, 66, 54],\n",
       "       [23, 74, 41, 46,  2, 89, 44, 64, 24, 43]])"
      ]
     },
     "execution_count": 202,
     "metadata": {},
     "output_type": "execute_result"
    }
   ],
   "source": [
    "arr2[::-1]"
   ]
  },
  {
   "cell_type": "code",
   "execution_count": 204,
   "id": "6f5eead0-5cd1-4b5e-875e-1c895ae1c54a",
   "metadata": {},
   "outputs": [
    {
     "data": {
      "text/plain": [
       "array([[36, 75, 43, 38, 19, 62, 11, 83, 18, 72],\n",
       "       [17, 85, 99, 22, 26, 39, 11, 42, 33, 90],\n",
       "       [32,  4, 69, 29, 86, 71, 10, 55, 63, 42],\n",
       "       [92, 23, 95, 68, 78, 50, 28, 41,  3, 37],\n",
       "       [85,  0, 20, 45, 50, 83, 72, 27, 66, 54]])"
      ]
     },
     "execution_count": 204,
     "metadata": {},
     "output_type": "execute_result"
    }
   ],
   "source": [
    "arr2[::-2]"
   ]
  },
  {
   "cell_type": "code",
   "execution_count": 206,
   "id": "a62abecc-ed9d-41d0-bbdd-b0324d6e15eb",
   "metadata": {},
   "outputs": [
    {
     "data": {
      "text/plain": [
       "array([[36, 75, 43, 38, 19, 62, 11, 83, 18, 72],\n",
       "       [51,  1, 85, 40, 29, 83, 35, 50, 61, 23],\n",
       "       [92, 23, 95, 68, 78, 50, 28, 41,  3, 37],\n",
       "       [23, 74, 41, 46,  2, 89, 44, 64, 24, 43]])"
      ]
     },
     "execution_count": 206,
     "metadata": {},
     "output_type": "execute_result"
    }
   ],
   "source": [
    "arr2[::-3]"
   ]
  },
  {
   "cell_type": "code",
   "execution_count": 212,
   "id": "f4bd3607-fc04-421e-bb27-5f79bfaa0a91",
   "metadata": {},
   "outputs": [
    {
     "data": {
      "text/plain": [
       "array([0, 1, 2, 3, 4, 5])"
      ]
     },
     "execution_count": 212,
     "metadata": {},
     "output_type": "execute_result"
    }
   ],
   "source": [
    "arr"
   ]
  },
  {
   "cell_type": "code",
   "execution_count": 214,
   "id": "dfce8ad1-3a34-4515-b4de-efbbac1d9fbe",
   "metadata": {},
   "outputs": [
    {
     "data": {
      "text/plain": [
       "5"
      ]
     },
     "execution_count": 214,
     "metadata": {},
     "output_type": "execute_result"
    }
   ],
   "source": [
    "arr.max() "
   ]
  },
  {
   "cell_type": "code",
   "execution_count": 216,
   "id": "16887349-d798-416e-a597-65db1a2fe4df",
   "metadata": {},
   "outputs": [
    {
     "data": {
      "text/plain": [
       "0"
      ]
     },
     "execution_count": 216,
     "metadata": {},
     "output_type": "execute_result"
    }
   ],
   "source": [
    "arr.min()"
   ]
  },
  {
   "cell_type": "code",
   "execution_count": 218,
   "id": "66d5df0f-1f12-4392-b096-bdcb80ad2232",
   "metadata": {},
   "outputs": [
    {
     "data": {
      "text/plain": [
       "3.0"
      ]
     },
     "execution_count": 218,
     "metadata": {},
     "output_type": "execute_result"
    }
   ],
   "source": [
    ">>> from numpy import *\n",
    ">>> a = array([1,2,3,4,9])\n",
    ">>> median(a)"
   ]
  },
  {
   "cell_type": "code",
   "execution_count": 220,
   "id": "a74703cd-353b-464a-acc7-64b2ae54f30a",
   "metadata": {},
   "outputs": [
    {
     "data": {
      "text/plain": [
       "array([0, 1, 2, 3, 4, 5])"
      ]
     },
     "execution_count": 220,
     "metadata": {},
     "output_type": "execute_result"
    }
   ],
   "source": [
    "arr"
   ]
  },
  {
   "cell_type": "code",
   "execution_count": 222,
   "id": "d2171641-3637-4622-83c3-8092379f972c",
   "metadata": {},
   "outputs": [
    {
     "data": {
      "text/plain": [
       "array([[0, 1, 2],\n",
       "       [3, 4, 5]])"
      ]
     },
     "execution_count": 222,
     "metadata": {},
     "output_type": "execute_result"
    }
   ],
   "source": [
    "arr.reshape(2,3)"
   ]
  },
  {
   "cell_type": "code",
   "execution_count": 224,
   "id": "f324886f-bdef-4955-9df6-cfe1e312366d",
   "metadata": {},
   "outputs": [
    {
     "data": {
      "text/plain": [
       "array([[0],\n",
       "       [1],\n",
       "       [2],\n",
       "       [3],\n",
       "       [4],\n",
       "       [5]])"
      ]
     },
     "execution_count": 224,
     "metadata": {},
     "output_type": "execute_result"
    }
   ],
   "source": [
    "arr.reshape(6,1)  "
   ]
  },
  {
   "cell_type": "code",
   "execution_count": 226,
   "id": "876952ee-4f38-4cd6-8e50-0845dbbdf683",
   "metadata": {},
   "outputs": [
    {
     "data": {
      "text/plain": [
       "array([[0, 1, 2, 3, 4, 5]])"
      ]
     },
     "execution_count": 226,
     "metadata": {},
     "output_type": "execute_result"
    }
   ],
   "source": [
    "arr.reshape(1,6) "
   ]
  },
  {
   "cell_type": "code",
   "execution_count": 228,
   "id": "36a700b7-e262-435c-bc77-9de27714ccff",
   "metadata": {},
   "outputs": [
    {
     "data": {
      "text/plain": [
       "array([[0, 1, 2, 3, 4, 5]])"
      ]
     },
     "execution_count": 228,
     "metadata": {},
     "output_type": "execute_result"
    }
   ],
   "source": [
    "arr.reshape(1,6) "
   ]
  },
  {
   "cell_type": "code",
   "execution_count": 230,
   "id": "3cbb6bc3-8d41-43c8-aca2-5d424c705e4b",
   "metadata": {},
   "outputs": [
    {
     "data": {
      "text/plain": [
       "array([[0, 1],\n",
       "       [2, 3],\n",
       "       [4, 5]])"
      ]
     },
     "execution_count": 230,
     "metadata": {},
     "output_type": "execute_result"
    }
   ],
   "source": [
    "arr.reshape(3,2,order='C') "
   ]
  },
  {
   "cell_type": "code",
   "execution_count": 232,
   "id": "57934774-1307-49be-abcd-b2066c14f066",
   "metadata": {},
   "outputs": [
    {
     "data": {
      "text/plain": [
       "array([[0, 3],\n",
       "       [1, 4],\n",
       "       [2, 5]])"
      ]
     },
     "execution_count": 232,
     "metadata": {},
     "output_type": "execute_result"
    }
   ],
   "source": [
    "arr.reshape(3,2,order='F') "
   ]
  },
  {
   "cell_type": "code",
   "execution_count": 234,
   "id": "ad525b7f-f526-4dc5-9ba0-e6a0b2ff775d",
   "metadata": {},
   "outputs": [
    {
     "data": {
      "text/plain": [
       "array([[0, 1, 2],\n",
       "       [3, 4, 5]])"
      ]
     },
     "execution_count": 234,
     "metadata": {},
     "output_type": "execute_result"
    }
   ],
   "source": [
    "arr.reshape(2,3)"
   ]
  },
  {
   "cell_type": "code",
   "execution_count": 236,
   "id": "e14500e2-9e32-4560-86f8-e92a9a8e357c",
   "metadata": {},
   "outputs": [
    {
     "data": {
      "text/plain": [
       "array([[0, 1, 2, 3, 4, 5]])"
      ]
     },
     "execution_count": 236,
     "metadata": {},
     "output_type": "execute_result"
    }
   ],
   "source": [
    "arr.reshape(1,6)  "
   ]
  },
  {
   "cell_type": "code",
   "execution_count": 238,
   "id": "d6087956-3be6-40a4-8b97-32ad23b36226",
   "metadata": {},
   "outputs": [
    {
     "data": {
      "text/plain": [
       "array([[0],\n",
       "       [1],\n",
       "       [2],\n",
       "       [3],\n",
       "       [4],\n",
       "       [5]])"
      ]
     },
     "execution_count": 238,
     "metadata": {},
     "output_type": "execute_result"
    }
   ],
   "source": [
    "arr.reshape(6,1)\n"
   ]
  },
  {
   "cell_type": "code",
   "execution_count": 240,
   "id": "1e04af2d-d7ca-4109-9fe0-446315b2af7b",
   "metadata": {},
   "outputs": [
    {
     "ename": "ValueError",
     "evalue": "cannot reshape array of size 6 into shape (2,6)",
     "output_type": "error",
     "traceback": [
      "\u001b[1;31m---------------------------------------------------------------------------\u001b[0m",
      "\u001b[1;31mValueError\u001b[0m                                Traceback (most recent call last)",
      "Cell \u001b[1;32mIn[240], line 1\u001b[0m\n\u001b[1;32m----> 1\u001b[0m arr\u001b[38;5;241m.\u001b[39mreshape(\u001b[38;5;241m2\u001b[39m,\u001b[38;5;241m6\u001b[39m)\n",
      "\u001b[1;31mValueError\u001b[0m: cannot reshape array of size 6 into shape (2,6)"
     ]
    }
   ],
   "source": [
    "arr.reshape(2,6)"
   ]
  },
  {
   "cell_type": "code",
   "execution_count": 242,
   "id": "04be622c-829d-4dfd-9669-a85f2e9b42b5",
   "metadata": {},
   "outputs": [
    {
     "ename": "ValueError",
     "evalue": "cannot reshape array of size 6 into shape (3,3)",
     "output_type": "error",
     "traceback": [
      "\u001b[1;31m---------------------------------------------------------------------------\u001b[0m",
      "\u001b[1;31mValueError\u001b[0m                                Traceback (most recent call last)",
      "Cell \u001b[1;32mIn[242], line 1\u001b[0m\n\u001b[1;32m----> 1\u001b[0m arr\u001b[38;5;241m.\u001b[39mreshape(\u001b[38;5;241m3\u001b[39m,\u001b[38;5;241m3\u001b[39m)\n",
      "\u001b[1;31mValueError\u001b[0m: cannot reshape array of size 6 into shape (3,3)"
     ]
    }
   ],
   "source": [
    "arr.reshape(3,3) "
   ]
  },
  {
   "cell_type": "code",
   "execution_count": 244,
   "id": "11be571a-6bde-48ae-86d0-98b0da981118",
   "metadata": {},
   "outputs": [
    {
     "data": {
      "text/plain": [
       "array([[0, 1],\n",
       "       [2, 3],\n",
       "       [4, 5]])"
      ]
     },
     "execution_count": 244,
     "metadata": {},
     "output_type": "execute_result"
    }
   ],
   "source": [
    "arr.reshape(3,2)"
   ]
  },
  {
   "cell_type": "markdown",
   "id": "6bb4f980-d7a4-4b92-bea7-9f323142c721",
   "metadata": {},
   "source": [
    "## Indexing"
   ]
  },
  {
   "cell_type": "code",
   "execution_count": 255,
   "id": "798d3884-344d-4b72-a63d-0e9c4fd4f1e0",
   "metadata": {},
   "outputs": [],
   "source": [
    "mat = np.arange(0,200).reshape(20,10)"
   ]
  },
  {
   "cell_type": "code",
   "execution_count": 257,
   "id": "c5c68c42-8529-4a73-82dc-3920715c94e8",
   "metadata": {},
   "outputs": [
    {
     "data": {
      "text/plain": [
       "array([[  0,   1,   2,   3,   4,   5,   6,   7,   8,   9],\n",
       "       [ 10,  11,  12,  13,  14,  15,  16,  17,  18,  19],\n",
       "       [ 20,  21,  22,  23,  24,  25,  26,  27,  28,  29],\n",
       "       [ 30,  31,  32,  33,  34,  35,  36,  37,  38,  39],\n",
       "       [ 40,  41,  42,  43,  44,  45,  46,  47,  48,  49],\n",
       "       [ 50,  51,  52,  53,  54,  55,  56,  57,  58,  59],\n",
       "       [ 60,  61,  62,  63,  64,  65,  66,  67,  68,  69],\n",
       "       [ 70,  71,  72,  73,  74,  75,  76,  77,  78,  79],\n",
       "       [ 80,  81,  82,  83,  84,  85,  86,  87,  88,  89],\n",
       "       [ 90,  91,  92,  93,  94,  95,  96,  97,  98,  99],\n",
       "       [100, 101, 102, 103, 104, 105, 106, 107, 108, 109],\n",
       "       [110, 111, 112, 113, 114, 115, 116, 117, 118, 119],\n",
       "       [120, 121, 122, 123, 124, 125, 126, 127, 128, 129],\n",
       "       [130, 131, 132, 133, 134, 135, 136, 137, 138, 139],\n",
       "       [140, 141, 142, 143, 144, 145, 146, 147, 148, 149],\n",
       "       [150, 151, 152, 153, 154, 155, 156, 157, 158, 159],\n",
       "       [160, 161, 162, 163, 164, 165, 166, 167, 168, 169],\n",
       "       [170, 171, 172, 173, 174, 175, 176, 177, 178, 179],\n",
       "       [180, 181, 182, 183, 184, 185, 186, 187, 188, 189],\n",
       "       [190, 191, 192, 193, 194, 195, 196, 197, 198, 199]])"
      ]
     },
     "execution_count": 257,
     "metadata": {},
     "output_type": "execute_result"
    }
   ],
   "source": [
    "mat"
   ]
  },
  {
   "cell_type": "code",
   "execution_count": 259,
   "id": "c8153b72-f1a7-40da-ad07-8178aadf6faf",
   "metadata": {},
   "outputs": [],
   "source": [
    "row = 4\n",
    "col = 5"
   ]
  },
  {
   "cell_type": "code",
   "execution_count": 261,
   "id": "f03e9eeb-31b2-4b7e-9e0d-ca4b16c9d371",
   "metadata": {},
   "outputs": [
    {
     "data": {
      "text/plain": [
       "5"
      ]
     },
     "execution_count": 261,
     "metadata": {},
     "output_type": "execute_result"
    }
   ],
   "source": [
    "col"
   ]
  },
  {
   "cell_type": "code",
   "execution_count": 263,
   "id": "c991533e-aeef-4a1b-ae2d-a60fd26cf75a",
   "metadata": {},
   "outputs": [
    {
     "data": {
      "text/plain": [
       "4"
      ]
     },
     "execution_count": 263,
     "metadata": {},
     "output_type": "execute_result"
    }
   ],
   "source": [
    "row"
   ]
  },
  {
   "cell_type": "code",
   "execution_count": 265,
   "id": "5fb2af6c-29c9-4ff3-b3f5-77f74d7bff9d",
   "metadata": {},
   "outputs": [
    {
     "data": {
      "text/plain": [
       "array([[  0,   1,   2,   3,   4,   5,   6,   7,   8,   9],\n",
       "       [ 10,  11,  12,  13,  14,  15,  16,  17,  18,  19],\n",
       "       [ 20,  21,  22,  23,  24,  25,  26,  27,  28,  29],\n",
       "       [ 30,  31,  32,  33,  34,  35,  36,  37,  38,  39],\n",
       "       [ 40,  41,  42,  43,  44,  45,  46,  47,  48,  49],\n",
       "       [ 50,  51,  52,  53,  54,  55,  56,  57,  58,  59],\n",
       "       [ 60,  61,  62,  63,  64,  65,  66,  67,  68,  69],\n",
       "       [ 70,  71,  72,  73,  74,  75,  76,  77,  78,  79],\n",
       "       [ 80,  81,  82,  83,  84,  85,  86,  87,  88,  89],\n",
       "       [ 90,  91,  92,  93,  94,  95,  96,  97,  98,  99],\n",
       "       [100, 101, 102, 103, 104, 105, 106, 107, 108, 109],\n",
       "       [110, 111, 112, 113, 114, 115, 116, 117, 118, 119],\n",
       "       [120, 121, 122, 123, 124, 125, 126, 127, 128, 129],\n",
       "       [130, 131, 132, 133, 134, 135, 136, 137, 138, 139],\n",
       "       [140, 141, 142, 143, 144, 145, 146, 147, 148, 149],\n",
       "       [150, 151, 152, 153, 154, 155, 156, 157, 158, 159],\n",
       "       [160, 161, 162, 163, 164, 165, 166, 167, 168, 169],\n",
       "       [170, 171, 172, 173, 174, 175, 176, 177, 178, 179],\n",
       "       [180, 181, 182, 183, 184, 185, 186, 187, 188, 189],\n",
       "       [190, 191, 192, 193, 194, 195, 196, 197, 198, 199]])"
      ]
     },
     "execution_count": 265,
     "metadata": {},
     "output_type": "execute_result"
    }
   ],
   "source": [
    "mat"
   ]
  },
  {
   "cell_type": "code",
   "execution_count": 267,
   "id": "89acdb5d-45c7-4016-9779-1287a850085d",
   "metadata": {},
   "outputs": [
    {
     "data": {
      "text/plain": [
       "45"
      ]
     },
     "execution_count": 267,
     "metadata": {},
     "output_type": "execute_result"
    }
   ],
   "source": [
    "mat[row,col] "
   ]
  },
  {
   "cell_type": "code",
   "execution_count": 269,
   "id": "0835ba81-6da8-4d9e-9b8d-6e677ffe8425",
   "metadata": {},
   "outputs": [
    {
     "data": {
      "text/plain": [
       "45"
      ]
     },
     "execution_count": 269,
     "metadata": {},
     "output_type": "execute_result"
    }
   ],
   "source": [
    "mat[4,5] "
   ]
  },
  {
   "cell_type": "code",
   "execution_count": 271,
   "id": "78c00674-bbf1-49db-bfd8-506b1ed27dd8",
   "metadata": {},
   "outputs": [
    {
     "data": {
      "text/plain": [
       "array([[  0,   1,   2,   3,   4,   5,   6,   7,   8,   9],\n",
       "       [ 10,  11,  12,  13,  14,  15,  16,  17,  18,  19],\n",
       "       [ 20,  21,  22,  23,  24,  25,  26,  27,  28,  29],\n",
       "       [ 30,  31,  32,  33,  34,  35,  36,  37,  38,  39],\n",
       "       [ 40,  41,  42,  43,  44,  45,  46,  47,  48,  49],\n",
       "       [ 50,  51,  52,  53,  54,  55,  56,  57,  58,  59],\n",
       "       [ 60,  61,  62,  63,  64,  65,  66,  67,  68,  69],\n",
       "       [ 70,  71,  72,  73,  74,  75,  76,  77,  78,  79],\n",
       "       [ 80,  81,  82,  83,  84,  85,  86,  87,  88,  89],\n",
       "       [ 90,  91,  92,  93,  94,  95,  96,  97,  98,  99],\n",
       "       [100, 101, 102, 103, 104, 105, 106, 107, 108, 109],\n",
       "       [110, 111, 112, 113, 114, 115, 116, 117, 118, 119],\n",
       "       [120, 121, 122, 123, 124, 125, 126, 127, 128, 129],\n",
       "       [130, 131, 132, 133, 134, 135, 136, 137, 138, 139],\n",
       "       [140, 141, 142, 143, 144, 145, 146, 147, 148, 149],\n",
       "       [150, 151, 152, 153, 154, 155, 156, 157, 158, 159],\n",
       "       [160, 161, 162, 163, 164, 165, 166, 167, 168, 169],\n",
       "       [170, 171, 172, 173, 174, 175, 176, 177, 178, 179],\n",
       "       [180, 181, 182, 183, 184, 185, 186, 187, 188, 189],\n",
       "       [190, 191, 192, 193, 194, 195, 196, 197, 198, 199]])"
      ]
     },
     "execution_count": 271,
     "metadata": {},
     "output_type": "execute_result"
    }
   ],
   "source": [
    "mat"
   ]
  },
  {
   "cell_type": "code",
   "execution_count": 273,
   "id": "2bb9a9b4-e768-4ff0-a1e0-14aa0db94413",
   "metadata": {},
   "outputs": [
    {
     "data": {
      "text/plain": [
       "array([[  0,   1,   2,   3,   4,   5,   6,   7,   8,   9],\n",
       "       [ 10,  11,  12,  13,  14,  15,  16,  17,  18,  19],\n",
       "       [ 20,  21,  22,  23,  24,  25,  26,  27,  28,  29],\n",
       "       [ 30,  31,  32,  33,  34,  35,  36,  37,  38,  39],\n",
       "       [ 40,  41,  42,  43,  44,  45,  46,  47,  48,  49],\n",
       "       [ 50,  51,  52,  53,  54,  55,  56,  57,  58,  59],\n",
       "       [ 60,  61,  62,  63,  64,  65,  66,  67,  68,  69],\n",
       "       [ 70,  71,  72,  73,  74,  75,  76,  77,  78,  79],\n",
       "       [ 80,  81,  82,  83,  84,  85,  86,  87,  88,  89],\n",
       "       [ 90,  91,  92,  93,  94,  95,  96,  97,  98,  99],\n",
       "       [100, 101, 102, 103, 104, 105, 106, 107, 108, 109],\n",
       "       [110, 111, 112, 113, 114, 115, 116, 117, 118, 119],\n",
       "       [120, 121, 122, 123, 124, 125, 126, 127, 128, 129],\n",
       "       [130, 131, 132, 133, 134, 135, 136, 137, 138, 139],\n",
       "       [140, 141, 142, 143, 144, 145, 146, 147, 148, 149],\n",
       "       [150, 151, 152, 153, 154, 155, 156, 157, 158, 159],\n",
       "       [160, 161, 162, 163, 164, 165, 166, 167, 168, 169],\n",
       "       [170, 171, 172, 173, 174, 175, 176, 177, 178, 179],\n",
       "       [180, 181, 182, 183, 184, 185, 186, 187, 188, 189],\n",
       "       [190, 191, 192, 193, 194, 195, 196, 197, 198, 199]])"
      ]
     },
     "execution_count": 273,
     "metadata": {},
     "output_type": "execute_result"
    }
   ],
   "source": [
    "mat[:]"
   ]
  },
  {
   "cell_type": "code",
   "execution_count": 279,
   "id": "bc5b8c22-ceff-4738-bb74-41f4d2f4c7c5",
   "metadata": {},
   "outputs": [],
   "source": [
    "col = 7"
   ]
  },
  {
   "cell_type": "code",
   "execution_count": 281,
   "id": "c4afe04a-41e0-4d58-a5e9-f3eaa16f9e34",
   "metadata": {},
   "outputs": [
    {
     "data": {
      "text/plain": [
       "array([[  0,   1,   2,   3,   4,   5,   6,   7,   8,   9],\n",
       "       [ 10,  11,  12,  13,  14,  15,  16,  17,  18,  19],\n",
       "       [ 20,  21,  22,  23,  24,  25,  26,  27,  28,  29],\n",
       "       [ 30,  31,  32,  33,  34,  35,  36,  37,  38,  39],\n",
       "       [ 40,  41,  42,  43,  44,  45,  46,  47,  48,  49],\n",
       "       [ 50,  51,  52,  53,  54,  55,  56,  57,  58,  59],\n",
       "       [ 60,  61,  62,  63,  64,  65,  66,  67,  68,  69],\n",
       "       [ 70,  71,  72,  73,  74,  75,  76,  77,  78,  79],\n",
       "       [ 80,  81,  82,  83,  84,  85,  86,  87,  88,  89],\n",
       "       [ 90,  91,  92,  93,  94,  95,  96,  97,  98,  99],\n",
       "       [100, 101, 102, 103, 104, 105, 106, 107, 108, 109],\n",
       "       [110, 111, 112, 113, 114, 115, 116, 117, 118, 119],\n",
       "       [120, 121, 122, 123, 124, 125, 126, 127, 128, 129],\n",
       "       [130, 131, 132, 133, 134, 135, 136, 137, 138, 139],\n",
       "       [140, 141, 142, 143, 144, 145, 146, 147, 148, 149],\n",
       "       [150, 151, 152, 153, 154, 155, 156, 157, 158, 159],\n",
       "       [160, 161, 162, 163, 164, 165, 166, 167, 168, 169],\n",
       "       [170, 171, 172, 173, 174, 175, 176, 177, 178, 179],\n",
       "       [180, 181, 182, 183, 184, 185, 186, 187, 188, 189],\n",
       "       [190, 191, 192, 193, 194, 195, 196, 197, 198, 199]])"
      ]
     },
     "execution_count": 281,
     "metadata": {},
     "output_type": "execute_result"
    }
   ],
   "source": [
    "mat"
   ]
  },
  {
   "cell_type": "code",
   "execution_count": 283,
   "id": "46cadfff-493b-42b9-878f-ef18ee7de596",
   "metadata": {},
   "outputs": [
    {
     "data": {
      "text/plain": [
       "array([  7,  17,  27,  37,  47,  57,  67,  77,  87,  97, 107, 117, 127,\n",
       "       137, 147, 157, 167, 177, 187, 197])"
      ]
     },
     "execution_count": 283,
     "metadata": {},
     "output_type": "execute_result"
    }
   ],
   "source": [
    "# With Slices\n",
    "mat[:,col] "
   ]
  },
  {
   "cell_type": "code",
   "execution_count": 285,
   "id": "35a52fb8-5ba9-45c1-87e4-5f8b677f6179",
   "metadata": {},
   "outputs": [
    {
     "data": {
      "text/plain": [
       "array([[  0,   1,   2,   3,   4,   5,   6,   7,   8,   9],\n",
       "       [ 10,  11,  12,  13,  14,  15,  16,  17,  18,  19],\n",
       "       [ 20,  21,  22,  23,  24,  25,  26,  27,  28,  29],\n",
       "       [ 30,  31,  32,  33,  34,  35,  36,  37,  38,  39],\n",
       "       [ 40,  41,  42,  43,  44,  45,  46,  47,  48,  49],\n",
       "       [ 50,  51,  52,  53,  54,  55,  56,  57,  58,  59],\n",
       "       [ 60,  61,  62,  63,  64,  65,  66,  67,  68,  69],\n",
       "       [ 70,  71,  72,  73,  74,  75,  76,  77,  78,  79],\n",
       "       [ 80,  81,  82,  83,  84,  85,  86,  87,  88,  89],\n",
       "       [ 90,  91,  92,  93,  94,  95,  96,  97,  98,  99],\n",
       "       [100, 101, 102, 103, 104, 105, 106, 107, 108, 109],\n",
       "       [110, 111, 112, 113, 114, 115, 116, 117, 118, 119],\n",
       "       [120, 121, 122, 123, 124, 125, 126, 127, 128, 129],\n",
       "       [130, 131, 132, 133, 134, 135, 136, 137, 138, 139],\n",
       "       [140, 141, 142, 143, 144, 145, 146, 147, 148, 149],\n",
       "       [150, 151, 152, 153, 154, 155, 156, 157, 158, 159],\n",
       "       [160, 161, 162, 163, 164, 165, 166, 167, 168, 169],\n",
       "       [170, 171, 172, 173, 174, 175, 176, 177, 178, 179],\n",
       "       [180, 181, 182, 183, 184, 185, 186, 187, 188, 189],\n",
       "       [190, 191, 192, 193, 194, 195, 196, 197, 198, 199]])"
      ]
     },
     "execution_count": 285,
     "metadata": {},
     "output_type": "execute_result"
    }
   ],
   "source": [
    "mat"
   ]
  },
  {
   "cell_type": "code",
   "execution_count": 287,
   "id": "f0d65a60-e652-4ba8-bd52-7c6b79b0189c",
   "metadata": {},
   "outputs": [
    {
     "data": {
      "text/plain": [
       "array([40, 41, 42, 43, 44, 45, 46, 47, 48, 49])"
      ]
     },
     "execution_count": 287,
     "metadata": {},
     "output_type": "execute_result"
    }
   ],
   "source": [
    "mat[row,:]"
   ]
  },
  {
   "cell_type": "code",
   "execution_count": 289,
   "id": "93b34127-fa78-4557-a95a-c1c268aee088",
   "metadata": {},
   "outputs": [
    {
     "data": {
      "text/plain": [
       "array([  7,  17,  27,  37,  47,  57,  67,  77,  87,  97, 107, 117, 127,\n",
       "       137, 147, 157, 167, 177, 187, 197])"
      ]
     },
     "execution_count": 289,
     "metadata": {},
     "output_type": "execute_result"
    }
   ],
   "source": [
    "mat[:,col]"
   ]
  },
  {
   "cell_type": "code",
   "execution_count": 291,
   "id": "ac6679da-6e23-4b6d-ac0c-3a32ce3ee854",
   "metadata": {},
   "outputs": [
    {
     "data": {
      "text/plain": [
       "array([[ 0,  1,  2,  3,  4,  5,  6,  7,  8,  9],\n",
       "       [10, 11, 12, 13, 14, 15, 16, 17, 18, 19],\n",
       "       [20, 21, 22, 23, 24, 25, 26, 27, 28, 29],\n",
       "       [30, 31, 32, 33, 34, 35, 36, 37, 38, 39],\n",
       "       [40, 41, 42, 43, 44, 45, 46, 47, 48, 49],\n",
       "       [50, 51, 52, 53, 54, 55, 56, 57, 58, 59],\n",
       "       [60, 61, 62, 63, 64, 65, 66, 67, 68, 69]])"
      ]
     },
     "execution_count": 291,
     "metadata": {},
     "output_type": "execute_result"
    }
   ],
   "source": [
    "mat[:col] "
   ]
  },
  {
   "cell_type": "code",
   "execution_count": 293,
   "id": "aeca5a6b-8fa3-4ee7-b78b-68a26cf5ba3a",
   "metadata": {},
   "outputs": [
    {
     "data": {
      "text/plain": [
       "array([[  0,   1,   2,   3,   4,   5,   6,   7,   8,   9],\n",
       "       [ 10,  11,  12,  13,  14,  15,  16,  17,  18,  19],\n",
       "       [ 20,  21,  22,  23,  24,  25,  26,  27,  28,  29],\n",
       "       [ 30,  31,  32,  33,  34,  35,  36,  37,  38,  39],\n",
       "       [ 40,  41,  42,  43,  44,  45,  46,  47,  48,  49],\n",
       "       [ 50,  51,  52,  53,  54,  55,  56,  57,  58,  59],\n",
       "       [ 60,  61,  62,  63,  64,  65,  66,  67,  68,  69],\n",
       "       [ 70,  71,  72,  73,  74,  75,  76,  77,  78,  79],\n",
       "       [ 80,  81,  82,  83,  84,  85,  86,  87,  88,  89],\n",
       "       [ 90,  91,  92,  93,  94,  95,  96,  97,  98,  99],\n",
       "       [100, 101, 102, 103, 104, 105, 106, 107, 108, 109],\n",
       "       [110, 111, 112, 113, 114, 115, 116, 117, 118, 119],\n",
       "       [120, 121, 122, 123, 124, 125, 126, 127, 128, 129],\n",
       "       [130, 131, 132, 133, 134, 135, 136, 137, 138, 139],\n",
       "       [140, 141, 142, 143, 144, 145, 146, 147, 148, 149],\n",
       "       [150, 151, 152, 153, 154, 155, 156, 157, 158, 159],\n",
       "       [160, 161, 162, 163, 164, 165, 166, 167, 168, 169],\n",
       "       [170, 171, 172, 173, 174, 175, 176, 177, 178, 179],\n",
       "       [180, 181, 182, 183, 184, 185, 186, 187, 188, 189],\n",
       "       [190, 191, 192, 193, 194, 195, 196, 197, 198, 199]])"
      ]
     },
     "execution_count": 293,
     "metadata": {},
     "output_type": "execute_result"
    }
   ],
   "source": [
    "mat"
   ]
  },
  {
   "cell_type": "code",
   "execution_count": 297,
   "id": "7a34ef10-47b8-4a8f-a41d-9c2436dbcebb",
   "metadata": {},
   "outputs": [
    {
     "data": {
      "text/plain": [
       "array([[ 0,  1,  2,  3,  4,  5,  6,  7,  8,  9],\n",
       "       [10, 11, 12, 13, 14, 15, 16, 17, 18, 19],\n",
       "       [20, 21, 22, 23, 24, 25, 26, 27, 28, 29],\n",
       "       [30, 31, 32, 33, 34, 35, 36, 37, 38, 39]])"
      ]
     },
     "execution_count": 297,
     "metadata": {},
     "output_type": "execute_result"
    }
   ],
   "source": [
    "mat[:row]"
   ]
  },
  {
   "cell_type": "code",
   "execution_count": 299,
   "id": "c88bf952-914d-4277-ae15-10bc166d289b",
   "metadata": {},
   "outputs": [
    {
     "data": {
      "text/plain": [
       "array([[ 40,  41,  42,  43,  44,  45,  46,  47,  48,  49],\n",
       "       [ 50,  51,  52,  53,  54,  55,  56,  57,  58,  59],\n",
       "       [ 60,  61,  62,  63,  64,  65,  66,  67,  68,  69],\n",
       "       [ 70,  71,  72,  73,  74,  75,  76,  77,  78,  79],\n",
       "       [ 80,  81,  82,  83,  84,  85,  86,  87,  88,  89],\n",
       "       [ 90,  91,  92,  93,  94,  95,  96,  97,  98,  99],\n",
       "       [100, 101, 102, 103, 104, 105, 106, 107, 108, 109],\n",
       "       [110, 111, 112, 113, 114, 115, 116, 117, 118, 119],\n",
       "       [120, 121, 122, 123, 124, 125, 126, 127, 128, 129],\n",
       "       [130, 131, 132, 133, 134, 135, 136, 137, 138, 139],\n",
       "       [140, 141, 142, 143, 144, 145, 146, 147, 148, 149],\n",
       "       [150, 151, 152, 153, 154, 155, 156, 157, 158, 159],\n",
       "       [160, 161, 162, 163, 164, 165, 166, 167, 168, 169],\n",
       "       [170, 171, 172, 173, 174, 175, 176, 177, 178, 179],\n",
       "       [180, 181, 182, 183, 184, 185, 186, 187, 188, 189],\n",
       "       [190, 191, 192, 193, 194, 195, 196, 197, 198, 199]])"
      ]
     },
     "execution_count": 299,
     "metadata": {},
     "output_type": "execute_result"
    }
   ],
   "source": [
    "mat[row:] "
   ]
  },
  {
   "cell_type": "code",
   "execution_count": 301,
   "id": "9bd7c019-59e0-4d35-a295-eadd11cef401",
   "metadata": {},
   "outputs": [
    {
     "data": {
      "text/plain": [
       "array([  8,  18,  28,  38,  48,  58,  68,  78,  88,  98, 108, 118, 128,\n",
       "       138, 148, 158, 168, 178, 188, 198])"
      ]
     },
     "execution_count": 301,
     "metadata": {},
     "output_type": "execute_result"
    }
   ],
   "source": [
    "mat[:,8] "
   ]
  },
  {
   "cell_type": "code",
   "execution_count": 303,
   "id": "33118ca5-3fa8-4ee4-afe4-59aed18c216b",
   "metadata": {},
   "outputs": [
    {
     "data": {
      "text/plain": [
       "array([  9,  19,  29,  39,  49,  59,  69,  79,  89,  99, 109, 119, 129,\n",
       "       139, 149, 159, 169, 179, 189, 199])"
      ]
     },
     "execution_count": 303,
     "metadata": {},
     "output_type": "execute_result"
    }
   ],
   "source": [
    "mat[:,-1] "
   ]
  },
  {
   "cell_type": "code",
   "execution_count": 305,
   "id": "0cf61458-68cf-46e1-a496-2647c5729714",
   "metadata": {},
   "outputs": [
    {
     "data": {
      "text/plain": [
       "array([  7,  17,  27,  37,  47,  57,  67,  77,  87,  97, 107, 117, 127,\n",
       "       137, 147, 157, 167, 177, 187, 197])"
      ]
     },
     "execution_count": 305,
     "metadata": {},
     "output_type": "execute_result"
    }
   ],
   "source": [
    "mat[:,col]"
   ]
  },
  {
   "cell_type": "code",
   "execution_count": 307,
   "id": "9691f19f-bc5a-45ba-8308-ba9caa2a0642",
   "metadata": {},
   "outputs": [
    {
     "data": {
      "text/plain": [
       "14"
      ]
     },
     "execution_count": 307,
     "metadata": {},
     "output_type": "execute_result"
    }
   ],
   "source": [
    "mat[1,4]"
   ]
  },
  {
   "cell_type": "code",
   "execution_count": 311,
   "id": "0f22fee7-9661-4d5a-9cef-60417aea7b4b",
   "metadata": {},
   "outputs": [
    {
     "data": {
      "text/plain": [
       "array([[ 30,  31,  32,  33,  34,  35,  36,  37,  38,  39],\n",
       "       [ 40,  41,  42,  43,  44,  45,  46,  47,  48,  49],\n",
       "       [ 50,  51,  52,  53,  54,  55,  56,  57,  58,  59],\n",
       "       [ 60,  61,  62,  63,  64,  65,  66,  67,  68,  69],\n",
       "       [ 70,  71,  72,  73,  74,  75,  76,  77,  78,  79],\n",
       "       [ 80,  81,  82,  83,  84,  85,  86,  87,  88,  89],\n",
       "       [ 90,  91,  92,  93,  94,  95,  96,  97,  98,  99],\n",
       "       [100, 101, 102, 103, 104, 105, 106, 107, 108, 109],\n",
       "       [110, 111, 112, 113, 114, 115, 116, 117, 118, 119],\n",
       "       [120, 121, 122, 123, 124, 125, 126, 127, 128, 129],\n",
       "       [130, 131, 132, 133, 134, 135, 136, 137, 138, 139],\n",
       "       [140, 141, 142, 143, 144, 145, 146, 147, 148, 149]])"
      ]
     },
     "execution_count": 311,
     "metadata": {},
     "output_type": "execute_result"
    }
   ],
   "source": [
    "mat[3:-5]"
   ]
  },
  {
   "cell_type": "code",
   "execution_count": 313,
   "id": "56693944-737e-4483-9642-946ad0d00e0b",
   "metadata": {},
   "outputs": [
    {
     "data": {
      "text/plain": [
       "array([0, 1, 2, 3, 4, 5, 6, 7, 8, 9])"
      ]
     },
     "execution_count": 313,
     "metadata": {},
     "output_type": "execute_result"
    }
   ],
   "source": [
    "mat[0]"
   ]
  },
  {
   "cell_type": "code",
   "execution_count": 315,
   "id": "a440078d-307b-4ca2-8212-be2cba0d0189",
   "metadata": {},
   "outputs": [
    {
     "data": {
      "text/plain": [
       "array([[ 60,  61,  62,  63,  64,  65,  66,  67,  68,  69],\n",
       "       [ 70,  71,  72,  73,  74,  75,  76,  77,  78,  79],\n",
       "       [ 80,  81,  82,  83,  84,  85,  86,  87,  88,  89],\n",
       "       [ 90,  91,  92,  93,  94,  95,  96,  97,  98,  99],\n",
       "       [100, 101, 102, 103, 104, 105, 106, 107, 108, 109],\n",
       "       [110, 111, 112, 113, 114, 115, 116, 117, 118, 119],\n",
       "       [120, 121, 122, 123, 124, 125, 126, 127, 128, 129],\n",
       "       [130, 131, 132, 133, 134, 135, 136, 137, 138, 139],\n",
       "       [140, 141, 142, 143, 144, 145, 146, 147, 148, 149],\n",
       "       [150, 151, 152, 153, 154, 155, 156, 157, 158, 159],\n",
       "       [160, 161, 162, 163, 164, 165, 166, 167, 168, 169],\n",
       "       [170, 171, 172, 173, 174, 175, 176, 177, 178, 179],\n",
       "       [180, 181, 182, 183, 184, 185, 186, 187, 188, 189],\n",
       "       [190, 191, 192, 193, 194, 195, 196, 197, 198, 199]])"
      ]
     },
     "execution_count": 315,
     "metadata": {},
     "output_type": "execute_result"
    }
   ],
   "source": [
    "mat[6:]"
   ]
  },
  {
   "cell_type": "code",
   "execution_count": 317,
   "id": "5157dfa3-4cb8-44cd-9fae-5a8c5125000b",
   "metadata": {},
   "outputs": [
    {
     "data": {
      "text/plain": [
       "array([[ 0,  1,  2,  3,  4,  5,  6,  7,  8,  9],\n",
       "       [10, 11, 12, 13, 14, 15, 16, 17, 18, 19],\n",
       "       [20, 21, 22, 23, 24, 25, 26, 27, 28, 29],\n",
       "       [30, 31, 32, 33, 34, 35, 36, 37, 38, 39],\n",
       "       [40, 41, 42, 43, 44, 45, 46, 47, 48, 49],\n",
       "       [50, 51, 52, 53, 54, 55, 56, 57, 58, 59],\n",
       "       [60, 61, 62, 63, 64, 65, 66, 67, 68, 69],\n",
       "       [70, 71, 72, 73, 74, 75, 76, 77, 78, 79],\n",
       "       [80, 81, 82, 83, 84, 85, 86, 87, 88, 89],\n",
       "       [90, 91, 92, 93, 94, 95, 96, 97, 98, 99]])"
      ]
     },
     "execution_count": 317,
     "metadata": {},
     "output_type": "execute_result"
    }
   ],
   "source": [
    "mat[0:10]"
   ]
  },
  {
   "cell_type": "code",
   "execution_count": 319,
   "id": "5f93765d-4f28-4e29-99c1-1688d2b46858",
   "metadata": {},
   "outputs": [
    {
     "data": {
      "text/plain": [
       "array([[ 0,  1,  2,  3,  4,  5,  6,  7,  8,  9],\n",
       "       [30, 31, 32, 33, 34, 35, 36, 37, 38, 39],\n",
       "       [60, 61, 62, 63, 64, 65, 66, 67, 68, 69],\n",
       "       [90, 91, 92, 93, 94, 95, 96, 97, 98, 99]])"
      ]
     },
     "execution_count": 319,
     "metadata": {},
     "output_type": "execute_result"
    }
   ],
   "source": [
    "mat[0:10:3]"
   ]
  },
  {
   "cell_type": "code",
   "execution_count": 321,
   "id": "a6e66547-474d-46bb-910f-576551bc99e6",
   "metadata": {},
   "outputs": [
    {
     "data": {
      "text/plain": [
       "array([[ 0,  1,  2,  3,  4,  5,  6,  7,  8,  9],\n",
       "       [10, 11, 12, 13, 14, 15, 16, 17, 18, 19],\n",
       "       [20, 21, 22, 23, 24, 25, 26, 27, 28, 29],\n",
       "       [30, 31, 32, 33, 34, 35, 36, 37, 38, 39],\n",
       "       [40, 41, 42, 43, 44, 45, 46, 47, 48, 49],\n",
       "       [50, 51, 52, 53, 54, 55, 56, 57, 58, 59],\n",
       "       [60, 61, 62, 63, 64, 65, 66, 67, 68, 69],\n",
       "       [70, 71, 72, 73, 74, 75, 76, 77, 78, 79],\n",
       "       [80, 81, 82, 83, 84, 85, 86, 87, 88, 89],\n",
       "       [90, 91, 92, 93, 94, 95, 96, 97, 98, 99]])"
      ]
     },
     "execution_count": 321,
     "metadata": {},
     "output_type": "execute_result"
    }
   ],
   "source": [
    "mat[0:10]"
   ]
  },
  {
   "cell_type": "code",
   "execution_count": 323,
   "id": "cf50b7b4-6333-428a-937f-d13278d09ff5",
   "metadata": {},
   "outputs": [
    {
     "data": {
      "text/plain": [
       "array([[ 0,  1,  2,  3,  4,  5,  6,  7,  8,  9],\n",
       "       [30, 31, 32, 33, 34, 35, 36, 37, 38, 39],\n",
       "       [60, 61, 62, 63, 64, 65, 66, 67, 68, 69],\n",
       "       [90, 91, 92, 93, 94, 95, 96, 97, 98, 99]])"
      ]
     },
     "execution_count": 323,
     "metadata": {},
     "output_type": "execute_result"
    }
   ],
   "source": [
    "mat[0:10:3]"
   ]
  },
  {
   "cell_type": "code",
   "execution_count": 325,
   "id": "80e2e6f4-9c93-47a4-97e3-eab2dd2fa698",
   "metadata": {},
   "outputs": [
    {
     "data": {
      "text/plain": [
       "array([[ 40,  41,  42,  43,  44,  45,  46,  47,  48,  49],\n",
       "       [ 50,  51,  52,  53,  54,  55,  56,  57,  58,  59],\n",
       "       [ 60,  61,  62,  63,  64,  65,  66,  67,  68,  69],\n",
       "       [ 70,  71,  72,  73,  74,  75,  76,  77,  78,  79],\n",
       "       [ 80,  81,  82,  83,  84,  85,  86,  87,  88,  89],\n",
       "       [ 90,  91,  92,  93,  94,  95,  96,  97,  98,  99],\n",
       "       [100, 101, 102, 103, 104, 105, 106, 107, 108, 109],\n",
       "       [110, 111, 112, 113, 114, 115, 116, 117, 118, 119],\n",
       "       [120, 121, 122, 123, 124, 125, 126, 127, 128, 129],\n",
       "       [130, 131, 132, 133, 134, 135, 136, 137, 138, 139],\n",
       "       [140, 141, 142, 143, 144, 145, 146, 147, 148, 149],\n",
       "       [150, 151, 152, 153, 154, 155, 156, 157, 158, 159],\n",
       "       [160, 161, 162, 163, 164, 165, 166, 167, 168, 169],\n",
       "       [170, 171, 172, 173, 174, 175, 176, 177, 178, 179],\n",
       "       [180, 181, 182, 183, 184, 185, 186, 187, 188, 189],\n",
       "       [190, 191, 192, 193, 194, 195, 196, 197, 198, 199]])"
      ]
     },
     "execution_count": 325,
     "metadata": {},
     "output_type": "execute_result"
    }
   ],
   "source": [
    "mat[4:]"
   ]
  },
  {
   "cell_type": "code",
   "execution_count": 327,
   "id": "916e0ad6-b38a-46bb-af6e-964dbe74e74c",
   "metadata": {},
   "outputs": [
    {
     "data": {
      "text/plain": [
       "array([[ 0,  1,  2,  3,  4,  5,  6,  7,  8,  9],\n",
       "       [10, 11, 12, 13, 14, 15, 16, 17, 18, 19],\n",
       "       [20, 21, 22, 23, 24, 25, 26, 27, 28, 29],\n",
       "       [30, 31, 32, 33, 34, 35, 36, 37, 38, 39]])"
      ]
     },
     "execution_count": 327,
     "metadata": {},
     "output_type": "execute_result"
    }
   ],
   "source": [
    "mat[:4]"
   ]
  },
  {
   "cell_type": "code",
   "execution_count": 329,
   "id": "048da282-365f-43c4-91f2-1e058254b242",
   "metadata": {},
   "outputs": [
    {
     "data": {
      "text/plain": [
       "array([[190, 191, 192, 193, 194, 195, 196, 197, 198, 199],\n",
       "       [180, 181, 182, 183, 184, 185, 186, 187, 188, 189],\n",
       "       [170, 171, 172, 173, 174, 175, 176, 177, 178, 179],\n",
       "       [160, 161, 162, 163, 164, 165, 166, 167, 168, 169],\n",
       "       [150, 151, 152, 153, 154, 155, 156, 157, 158, 159],\n",
       "       [140, 141, 142, 143, 144, 145, 146, 147, 148, 149],\n",
       "       [130, 131, 132, 133, 134, 135, 136, 137, 138, 139],\n",
       "       [120, 121, 122, 123, 124, 125, 126, 127, 128, 129],\n",
       "       [110, 111, 112, 113, 114, 115, 116, 117, 118, 119],\n",
       "       [100, 101, 102, 103, 104, 105, 106, 107, 108, 109],\n",
       "       [ 90,  91,  92,  93,  94,  95,  96,  97,  98,  99],\n",
       "       [ 80,  81,  82,  83,  84,  85,  86,  87,  88,  89],\n",
       "       [ 70,  71,  72,  73,  74,  75,  76,  77,  78,  79],\n",
       "       [ 60,  61,  62,  63,  64,  65,  66,  67,  68,  69],\n",
       "       [ 50,  51,  52,  53,  54,  55,  56,  57,  58,  59],\n",
       "       [ 40,  41,  42,  43,  44,  45,  46,  47,  48,  49],\n",
       "       [ 30,  31,  32,  33,  34,  35,  36,  37,  38,  39],\n",
       "       [ 20,  21,  22,  23,  24,  25,  26,  27,  28,  29],\n",
       "       [ 10,  11,  12,  13,  14,  15,  16,  17,  18,  19],\n",
       "       [  0,   1,   2,   3,   4,   5,   6,   7,   8,   9]])"
      ]
     },
     "execution_count": 329,
     "metadata": {},
     "output_type": "execute_result"
    }
   ],
   "source": [
    "mat[::-1]"
   ]
  },
  {
   "cell_type": "code",
   "execution_count": 331,
   "id": "64a1507a-3a19-4168-ae0a-3365807f22ae",
   "metadata": {},
   "outputs": [
    {
     "data": {
      "text/plain": [
       "array([[190, 191, 192, 193, 194, 195, 196, 197, 198, 199],\n",
       "       [170, 171, 172, 173, 174, 175, 176, 177, 178, 179],\n",
       "       [150, 151, 152, 153, 154, 155, 156, 157, 158, 159],\n",
       "       [130, 131, 132, 133, 134, 135, 136, 137, 138, 139],\n",
       "       [110, 111, 112, 113, 114, 115, 116, 117, 118, 119],\n",
       "       [ 90,  91,  92,  93,  94,  95,  96,  97,  98,  99],\n",
       "       [ 70,  71,  72,  73,  74,  75,  76,  77,  78,  79],\n",
       "       [ 50,  51,  52,  53,  54,  55,  56,  57,  58,  59],\n",
       "       [ 30,  31,  32,  33,  34,  35,  36,  37,  38,  39],\n",
       "       [ 10,  11,  12,  13,  14,  15,  16,  17,  18,  19]])"
      ]
     },
     "execution_count": 331,
     "metadata": {},
     "output_type": "execute_result"
    }
   ],
   "source": [
    "mat[::-2]"
   ]
  },
  {
   "cell_type": "code",
   "execution_count": 333,
   "id": "24ab531f-e6bc-45cd-b662-04890fbcac2b",
   "metadata": {},
   "outputs": [
    {
     "data": {
      "text/plain": [
       "array([[190, 191, 192, 193, 194, 195, 196, 197, 198, 199],\n",
       "       [140, 141, 142, 143, 144, 145, 146, 147, 148, 149],\n",
       "       [ 90,  91,  92,  93,  94,  95,  96,  97,  98,  99],\n",
       "       [ 40,  41,  42,  43,  44,  45,  46,  47,  48,  49]])"
      ]
     },
     "execution_count": 333,
     "metadata": {},
     "output_type": "execute_result"
    }
   ],
   "source": [
    "mat[::-5]"
   ]
  },
  {
   "cell_type": "code",
   "execution_count": 335,
   "id": "9d92d970-97c4-47f0-9865-4518470c70e2",
   "metadata": {},
   "outputs": [
    {
     "data": {
      "text/plain": [
       "array([[190, 191, 192, 193, 194, 195, 196, 197, 198, 199],\n",
       "       [140, 141, 142, 143, 144, 145, 146, 147, 148, 149],\n",
       "       [ 90,  91,  92,  93,  94,  95,  96,  97,  98,  99],\n",
       "       [ 40,  41,  42,  43,  44,  45,  46,  47,  48,  49]])"
      ]
     },
     "execution_count": 335,
     "metadata": {},
     "output_type": "execute_result"
    }
   ],
   "source": [
    "mat[::-5]"
   ]
  },
  {
   "cell_type": "code",
   "execution_count": 337,
   "id": "2a30d393-9b5f-42b2-bee3-7e270db70364",
   "metadata": {},
   "outputs": [
    {
     "data": {
      "text/plain": [
       "array([[20, 21, 22, 23, 24, 25, 26, 27, 28, 29],\n",
       "       [30, 31, 32, 33, 34, 35, 36, 37, 38, 39],\n",
       "       [40, 41, 42, 43, 44, 45, 46, 47, 48, 49],\n",
       "       [50, 51, 52, 53, 54, 55, 56, 57, 58, 59]])"
      ]
     },
     "execution_count": 337,
     "metadata": {},
     "output_type": "execute_result"
    }
   ],
   "source": [
    "mat[2:6]"
   ]
  },
  {
   "cell_type": "code",
   "execution_count": 339,
   "id": "6ddd6eef-e02d-4c6f-bb64-141dd8d0729a",
   "metadata": {},
   "outputs": [
    {
     "data": {
      "text/plain": [
       "array([[22, 23],\n",
       "       [32, 33],\n",
       "       [42, 43],\n",
       "       [52, 53]])"
      ]
     },
     "execution_count": 339,
     "metadata": {},
     "output_type": "execute_result"
    }
   ],
   "source": [
    "mat[2:6,2:4] # 1:5 --> only row part /// 1:3 -- it indicates only column parts"
   ]
  },
  {
   "cell_type": "code",
   "execution_count": 341,
   "id": "c1954caf-99c2-4ae1-83bf-d41b4b33b2d3",
   "metadata": {},
   "outputs": [
    {
     "data": {
      "text/plain": [
       "array([[12, 13]])"
      ]
     },
     "execution_count": 341,
     "metadata": {},
     "output_type": "execute_result"
    }
   ],
   "source": [
    "mat[1:2,2:4]"
   ]
  },
  {
   "cell_type": "code",
   "execution_count": 343,
   "id": "1cae2b85-b35c-4b4b-8212-459acbecc470",
   "metadata": {},
   "outputs": [
    {
     "data": {
      "text/plain": [
       "array([[22]])"
      ]
     },
     "execution_count": 343,
     "metadata": {},
     "output_type": "execute_result"
    }
   ],
   "source": [
    "mat[2:3,2:3]"
   ]
  },
  {
   "cell_type": "code",
   "execution_count": 345,
   "id": "cc81eae0-f9e3-40a0-b399-27bc1e8b15a8",
   "metadata": {},
   "outputs": [
    {
     "data": {
      "text/plain": [
       "array([[32, 33],\n",
       "       [42, 43]])"
      ]
     },
     "execution_count": 345,
     "metadata": {},
     "output_type": "execute_result"
    }
   ],
   "source": [
    "mat[3:5,2:4,]"
   ]
  },
  {
   "cell_type": "code",
   "execution_count": 347,
   "id": "2957ff32-c8d7-49e7-b163-c441f7018c58",
   "metadata": {},
   "outputs": [
    {
     "data": {
      "text/plain": [
       "array([[24]])"
      ]
     },
     "execution_count": 347,
     "metadata": {},
     "output_type": "execute_result"
    }
   ],
   "source": [
    "mat[2:3,4:5]"
   ]
  },
  {
   "cell_type": "markdown",
   "id": "cacfd89b-5acd-4f92-96c4-a8d0fdd2a6b9",
   "metadata": {},
   "source": [
    "## Masking"
   ]
  },
  {
   "cell_type": "code",
   "execution_count": 350,
   "id": "c89a19f9-6e52-4523-af72-5d3c49194aaa",
   "metadata": {},
   "outputs": [
    {
     "data": {
      "text/plain": [
       "array([[  0,   1,   2,   3,   4,   5,   6,   7,   8,   9],\n",
       "       [ 10,  11,  12,  13,  14,  15,  16,  17,  18,  19],\n",
       "       [ 20,  21,  22,  23,  24,  25,  26,  27,  28,  29],\n",
       "       [ 30,  31,  32,  33,  34,  35,  36,  37,  38,  39],\n",
       "       [ 40,  41,  42,  43,  44,  45,  46,  47,  48,  49],\n",
       "       [ 50,  51,  52,  53,  54,  55,  56,  57,  58,  59],\n",
       "       [ 60,  61,  62,  63,  64,  65,  66,  67,  68,  69],\n",
       "       [ 70,  71,  72,  73,  74,  75,  76,  77,  78,  79],\n",
       "       [ 80,  81,  82,  83,  84,  85,  86,  87,  88,  89],\n",
       "       [ 90,  91,  92,  93,  94,  95,  96,  97,  98,  99],\n",
       "       [100, 101, 102, 103, 104, 105, 106, 107, 108, 109],\n",
       "       [110, 111, 112, 113, 114, 115, 116, 117, 118, 119],\n",
       "       [120, 121, 122, 123, 124, 125, 126, 127, 128, 129],\n",
       "       [130, 131, 132, 133, 134, 135, 136, 137, 138, 139],\n",
       "       [140, 141, 142, 143, 144, 145, 146, 147, 148, 149],\n",
       "       [150, 151, 152, 153, 154, 155, 156, 157, 158, 159],\n",
       "       [160, 161, 162, 163, 164, 165, 166, 167, 168, 169],\n",
       "       [170, 171, 172, 173, 174, 175, 176, 177, 178, 179],\n",
       "       [180, 181, 182, 183, 184, 185, 186, 187, 188, 189],\n",
       "       [190, 191, 192, 193, 194, 195, 196, 197, 198, 199]])"
      ]
     },
     "execution_count": 350,
     "metadata": {},
     "output_type": "execute_result"
    }
   ],
   "source": [
    "mat # we also called as filter"
   ]
  },
  {
   "cell_type": "code",
   "execution_count": 352,
   "id": "7e5ac8b8-e011-46e4-a569-f15f244ce886",
   "metadata": {},
   "outputs": [
    {
     "data": {
      "text/plain": [
       "1688032255056"
      ]
     },
     "execution_count": 352,
     "metadata": {},
     "output_type": "execute_result"
    }
   ],
   "source": [
    "id(mat)"
   ]
  },
  {
   "cell_type": "code",
   "execution_count": 354,
   "id": "dd89b990-9068-45b8-99f9-6be9535a9bf2",
   "metadata": {},
   "outputs": [
    {
     "data": {
      "text/plain": [
       "array([[ True,  True,  True,  True,  True,  True,  True,  True,  True,\n",
       "         True],\n",
       "       [ True,  True,  True,  True,  True,  True,  True,  True,  True,\n",
       "         True],\n",
       "       [ True,  True,  True,  True,  True,  True,  True,  True,  True,\n",
       "         True],\n",
       "       [ True,  True,  True,  True,  True,  True,  True,  True,  True,\n",
       "         True],\n",
       "       [ True,  True,  True,  True,  True,  True,  True,  True,  True,\n",
       "         True],\n",
       "       [False, False, False, False, False, False, False, False, False,\n",
       "        False],\n",
       "       [False, False, False, False, False, False, False, False, False,\n",
       "        False],\n",
       "       [False, False, False, False, False, False, False, False, False,\n",
       "        False],\n",
       "       [False, False, False, False, False, False, False, False, False,\n",
       "        False],\n",
       "       [False, False, False, False, False, False, False, False, False,\n",
       "        False],\n",
       "       [False, False, False, False, False, False, False, False, False,\n",
       "        False],\n",
       "       [False, False, False, False, False, False, False, False, False,\n",
       "        False],\n",
       "       [False, False, False, False, False, False, False, False, False,\n",
       "        False],\n",
       "       [False, False, False, False, False, False, False, False, False,\n",
       "        False],\n",
       "       [False, False, False, False, False, False, False, False, False,\n",
       "        False],\n",
       "       [False, False, False, False, False, False, False, False, False,\n",
       "        False],\n",
       "       [False, False, False, False, False, False, False, False, False,\n",
       "        False],\n",
       "       [False, False, False, False, False, False, False, False, False,\n",
       "        False],\n",
       "       [False, False, False, False, False, False, False, False, False,\n",
       "        False],\n",
       "       [False, False, False, False, False, False, False, False, False,\n",
       "        False]])"
      ]
     },
     "execution_count": 354,
     "metadata": {},
     "output_type": "execute_result"
    }
   ],
   "source": [
    "mat < 50"
   ]
  },
  {
   "cell_type": "code",
   "execution_count": 356,
   "id": "ef5f2959-03c4-46f7-8bbe-2e15aa447274",
   "metadata": {},
   "outputs": [
    {
     "data": {
      "text/plain": [
       "array([[False, False, False, False, False, False, False, False, False,\n",
       "        False],\n",
       "       [False, False, False, False, False, False, False, False, False,\n",
       "        False],\n",
       "       [False, False, False, False, False, False, False, False, False,\n",
       "        False],\n",
       "       [False, False, False, False, False, False, False, False, False,\n",
       "        False],\n",
       "       [False, False, False, False, False, False, False, False, False,\n",
       "        False],\n",
       "       [False,  True,  True,  True,  True,  True,  True,  True,  True,\n",
       "         True],\n",
       "       [ True,  True,  True,  True,  True,  True,  True,  True,  True,\n",
       "         True],\n",
       "       [ True,  True,  True,  True,  True,  True,  True,  True,  True,\n",
       "         True],\n",
       "       [ True,  True,  True,  True,  True,  True,  True,  True,  True,\n",
       "         True],\n",
       "       [ True,  True,  True,  True,  True,  True,  True,  True,  True,\n",
       "         True],\n",
       "       [ True,  True,  True,  True,  True,  True,  True,  True,  True,\n",
       "         True],\n",
       "       [ True,  True,  True,  True,  True,  True,  True,  True,  True,\n",
       "         True],\n",
       "       [ True,  True,  True,  True,  True,  True,  True,  True,  True,\n",
       "         True],\n",
       "       [ True,  True,  True,  True,  True,  True,  True,  True,  True,\n",
       "         True],\n",
       "       [ True,  True,  True,  True,  True,  True,  True,  True,  True,\n",
       "         True],\n",
       "       [ True,  True,  True,  True,  True,  True,  True,  True,  True,\n",
       "         True],\n",
       "       [ True,  True,  True,  True,  True,  True,  True,  True,  True,\n",
       "         True],\n",
       "       [ True,  True,  True,  True,  True,  True,  True,  True,  True,\n",
       "         True],\n",
       "       [ True,  True,  True,  True,  True,  True,  True,  True,  True,\n",
       "         True],\n",
       "       [ True,  True,  True,  True,  True,  True,  True,  True,  True,\n",
       "         True]])"
      ]
     },
     "execution_count": 356,
     "metadata": {},
     "output_type": "execute_result"
    }
   ],
   "source": [
    "mat > 50"
   ]
  },
  {
   "cell_type": "code",
   "execution_count": 358,
   "id": "5a4860c8-2172-4de9-a2a2-50b67062959a",
   "metadata": {},
   "outputs": [
    {
     "data": {
      "text/plain": [
       "array([[False, False, False, False, False, False, False, False, False,\n",
       "        False],\n",
       "       [False, False, False, False, False, False, False, False, False,\n",
       "        False],\n",
       "       [False, False, False, False, False, False, False, False, False,\n",
       "        False],\n",
       "       [False, False, False, False, False, False, False, False, False,\n",
       "        False],\n",
       "       [False, False, False, False, False, False, False, False, False,\n",
       "        False],\n",
       "       [ True, False, False, False, False, False, False, False, False,\n",
       "        False],\n",
       "       [False, False, False, False, False, False, False, False, False,\n",
       "        False],\n",
       "       [False, False, False, False, False, False, False, False, False,\n",
       "        False],\n",
       "       [False, False, False, False, False, False, False, False, False,\n",
       "        False],\n",
       "       [False, False, False, False, False, False, False, False, False,\n",
       "        False],\n",
       "       [False, False, False, False, False, False, False, False, False,\n",
       "        False],\n",
       "       [False, False, False, False, False, False, False, False, False,\n",
       "        False],\n",
       "       [False, False, False, False, False, False, False, False, False,\n",
       "        False],\n",
       "       [False, False, False, False, False, False, False, False, False,\n",
       "        False],\n",
       "       [False, False, False, False, False, False, False, False, False,\n",
       "        False],\n",
       "       [False, False, False, False, False, False, False, False, False,\n",
       "        False],\n",
       "       [False, False, False, False, False, False, False, False, False,\n",
       "        False],\n",
       "       [False, False, False, False, False, False, False, False, False,\n",
       "        False],\n",
       "       [False, False, False, False, False, False, False, False, False,\n",
       "        False],\n",
       "       [False, False, False, False, False, False, False, False, False,\n",
       "        False]])"
      ]
     },
     "execution_count": 358,
     "metadata": {},
     "output_type": "execute_result"
    }
   ],
   "source": [
    "mat == 50"
   ]
  },
  {
   "cell_type": "code",
   "execution_count": 360,
   "id": "8de23be6-1827-40c5-b15d-e832453e78e1",
   "metadata": {},
   "outputs": [
    {
     "data": {
      "text/plain": [
       "array([50])"
      ]
     },
     "execution_count": 360,
     "metadata": {},
     "output_type": "execute_result"
    }
   ],
   "source": [
    "mat[mat==50]"
   ]
  },
  {
   "cell_type": "code",
   "execution_count": 362,
   "id": "d675ac92-d769-41ed-a8c1-2ef94084928c",
   "metadata": {},
   "outputs": [
    {
     "data": {
      "text/plain": [
       "array([ 0,  1,  2,  3,  4,  5,  6,  7,  8,  9, 10, 11, 12, 13, 14, 15, 16,\n",
       "       17, 18, 19, 20, 21, 22, 23, 24, 25, 26, 27, 28, 29, 30, 31, 32, 33,\n",
       "       34, 35, 36, 37, 38, 39, 40, 41, 42, 43, 44, 45, 46, 47, 48, 49])"
      ]
     },
     "execution_count": 362,
     "metadata": {},
     "output_type": "execute_result"
    }
   ],
   "source": [
    "a1 = mat[mat<50] \n",
    "a1"
   ]
  },
  {
   "cell_type": "code",
   "execution_count": 364,
   "id": "b4a7a49e-4a5b-424e-94ae-a019f6ca2332",
   "metadata": {},
   "outputs": [
    {
     "data": {
      "text/plain": [
       "array([ 51,  52,  53,  54,  55,  56,  57,  58,  59,  60,  61,  62,  63,\n",
       "        64,  65,  66,  67,  68,  69,  70,  71,  72,  73,  74,  75,  76,\n",
       "        77,  78,  79,  80,  81,  82,  83,  84,  85,  86,  87,  88,  89,\n",
       "        90,  91,  92,  93,  94,  95,  96,  97,  98,  99, 100, 101, 102,\n",
       "       103, 104, 105, 106, 107, 108, 109, 110, 111, 112, 113, 114, 115,\n",
       "       116, 117, 118, 119, 120, 121, 122, 123, 124, 125, 126, 127, 128,\n",
       "       129, 130, 131, 132, 133, 134, 135, 136, 137, 138, 139, 140, 141,\n",
       "       142, 143, 144, 145, 146, 147, 148, 149, 150, 151, 152, 153, 154,\n",
       "       155, 156, 157, 158, 159, 160, 161, 162, 163, 164, 165, 166, 167,\n",
       "       168, 169, 170, 171, 172, 173, 174, 175, 176, 177, 178, 179, 180,\n",
       "       181, 182, 183, 184, 185, 186, 187, 188, 189, 190, 191, 192, 193,\n",
       "       194, 195, 196, 197, 198, 199])"
      ]
     },
     "execution_count": 364,
     "metadata": {},
     "output_type": "execute_result"
    }
   ],
   "source": [
    "a2 = mat[mat>50] \n",
    "a2"
   ]
  },
  {
   "cell_type": "code",
   "execution_count": 366,
   "id": "39718275-b07f-41a7-9201-e0f99c89058c",
   "metadata": {},
   "outputs": [
    {
     "data": {
      "text/plain": [
       "array([ 50,  51,  52,  53,  54,  55,  56,  57,  58,  59,  60,  61,  62,\n",
       "        63,  64,  65,  66,  67,  68,  69,  70,  71,  72,  73,  74,  75,\n",
       "        76,  77,  78,  79,  80,  81,  82,  83,  84,  85,  86,  87,  88,\n",
       "        89,  90,  91,  92,  93,  94,  95,  96,  97,  98,  99, 100, 101,\n",
       "       102, 103, 104, 105, 106, 107, 108, 109, 110, 111, 112, 113, 114,\n",
       "       115, 116, 117, 118, 119, 120, 121, 122, 123, 124, 125, 126, 127,\n",
       "       128, 129, 130, 131, 132, 133, 134, 135, 136, 137, 138, 139, 140,\n",
       "       141, 142, 143, 144, 145, 146, 147, 148, 149, 150, 151, 152, 153,\n",
       "       154, 155, 156, 157, 158, 159, 160, 161, 162, 163, 164, 165, 166,\n",
       "       167, 168, 169, 170, 171, 172, 173, 174, 175, 176, 177, 178, 179,\n",
       "       180, 181, 182, 183, 184, 185, 186, 187, 188, 189, 190, 191, 192,\n",
       "       193, 194, 195, 196, 197, 198, 199])"
      ]
     },
     "execution_count": 366,
     "metadata": {},
     "output_type": "execute_result"
    }
   ],
   "source": [
    "a3 = mat[mat>=50] \n",
    "a3"
   ]
  },
  {
   "cell_type": "code",
   "execution_count": 368,
   "id": "ce2766d0-b1ba-40ce-9015-2c850c951487",
   "metadata": {},
   "outputs": [
    {
     "data": {
      "text/plain": [
       "array([50])"
      ]
     },
     "execution_count": 368,
     "metadata": {},
     "output_type": "execute_result"
    }
   ],
   "source": [
    "a4 = mat[mat==50]\n",
    "a4"
   ]
  },
  {
   "cell_type": "code",
   "execution_count": 370,
   "id": "fe5321a1-feb1-4bd2-af60-2642c4659e04",
   "metadata": {},
   "outputs": [
    {
     "data": {
      "text/plain": [
       "array([ 0,  1,  2,  3,  4,  5,  6,  7,  8,  9, 10, 11, 12, 13, 14, 15, 16,\n",
       "       17, 18, 19, 20, 21, 22, 23, 24, 25, 26, 27, 28, 29, 30, 31, 32, 33,\n",
       "       34, 35, 36, 37, 38, 39, 40, 41, 42, 43, 44, 45, 46, 47, 48, 49])"
      ]
     },
     "execution_count": 370,
     "metadata": {},
     "output_type": "execute_result"
    }
   ],
   "source": [
    "a1"
   ]
  },
  {
   "cell_type": "code",
   "execution_count": 372,
   "id": "7c6613e5-cd8c-4e97-b894-8f46a4eb841a",
   "metadata": {},
   "outputs": [
    {
     "data": {
      "text/plain": [
       "array([ 51,  52,  53,  54,  55,  56,  57,  58,  59,  60,  61,  62,  63,\n",
       "        64,  65,  66,  67,  68,  69,  70,  71,  72,  73,  74,  75,  76,\n",
       "        77,  78,  79,  80,  81,  82,  83,  84,  85,  86,  87,  88,  89,\n",
       "        90,  91,  92,  93,  94,  95,  96,  97,  98,  99, 100, 101, 102,\n",
       "       103, 104, 105, 106, 107, 108, 109, 110, 111, 112, 113, 114, 115,\n",
       "       116, 117, 118, 119, 120, 121, 122, 123, 124, 125, 126, 127, 128,\n",
       "       129, 130, 131, 132, 133, 134, 135, 136, 137, 138, 139, 140, 141,\n",
       "       142, 143, 144, 145, 146, 147, 148, 149, 150, 151, 152, 153, 154,\n",
       "       155, 156, 157, 158, 159, 160, 161, 162, 163, 164, 165, 166, 167,\n",
       "       168, 169, 170, 171, 172, 173, 174, 175, 176, 177, 178, 179, 180,\n",
       "       181, 182, 183, 184, 185, 186, 187, 188, 189, 190, 191, 192, 193,\n",
       "       194, 195, 196, 197, 198, 199])"
      ]
     },
     "execution_count": 372,
     "metadata": {},
     "output_type": "execute_result"
    }
   ],
   "source": [
    "a2"
   ]
  },
  {
   "cell_type": "code",
   "execution_count": null,
   "id": "d115de56-95a0-4ba0-b18f-aeb74079712b",
   "metadata": {},
   "outputs": [],
   "source": []
  }
 ],
 "metadata": {
  "kernelspec": {
   "display_name": "Python 3 (ipykernel)",
   "language": "python",
   "name": "python3"
  },
  "language_info": {
   "codemirror_mode": {
    "name": "ipython",
    "version": 3
   },
   "file_extension": ".py",
   "mimetype": "text/x-python",
   "name": "python",
   "nbconvert_exporter": "python",
   "pygments_lexer": "ipython3",
   "version": "3.12.7"
  }
 },
 "nbformat": 4,
 "nbformat_minor": 5
}
